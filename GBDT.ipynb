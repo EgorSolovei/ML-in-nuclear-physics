{
  "nbformat": 4,
  "nbformat_minor": 0,
  "metadata": {
    "colab": {
      "provenance": [],
      "gpuType": "T4",
      "toc_visible": true,
      "authorship_tag": "ABX9TyMplhCl6BMOo98RgtZ5FZAb",
      "include_colab_link": true
    },
    "kernelspec": {
      "name": "python3",
      "display_name": "Python 3"
    },
    "language_info": {
      "name": "python"
    },
    "accelerator": "GPU",
    "gpuClass": "standard"
  },
  "cells": [
    {
      "cell_type": "markdown",
      "metadata": {
        "id": "view-in-github",
        "colab_type": "text"
      },
      "source": [
        "<a href=\"https://colab.research.google.com/github/EgorSolovei/ML-in-nuclear-physics/blob/main/GBDT.ipynb\" target=\"_parent\"><img src=\"https://colab.research.google.com/assets/colab-badge.svg\" alt=\"Open In Colab\"/></a>"
      ]
    },
    {
      "cell_type": "code",
      "execution_count": null,
      "metadata": {
        "id": "7ZNCYLC9xVB7",
        "colab": {
          "base_uri": "https://localhost:8080/"
        },
        "outputId": "6acc7119-68dd-48bc-cf87-8429e8a33ef6"
      },
      "outputs": [
        {
          "output_type": "stream",
          "name": "stdout",
          "text": [
            "Mounted at /content/drive/\n"
          ]
        }
      ],
      "source": [
        "import pandas as pd\n",
        "import numpy as np\n",
        "import seaborn as sns\n",
        "import sklearn.metrics as metrics\n",
        "\n",
        "from sklearn.model_selection import GridSearchCV\n",
        "from google.colab import drive\n",
        "\n",
        "drive.mount('/content/drive/')"
      ]
    },
    {
      "cell_type": "markdown",
      "source": [
        "# Load data"
      ],
      "metadata": {
        "id": "7Du6aTUoorEF"
      }
    },
    {
      "cell_type": "code",
      "source": [
        "data = pd.read_csv('/content/drive/MyDrive/Colab_Notebooks/Курсовая/data.csv')\n",
        "data.drop(columns='Unnamed: 0', inplace=True)\n",
        "data = data.rename(columns={\"class\": \"class_param\"})\n",
        "data.head()"
      ],
      "metadata": {
        "id": "sXFXDuUnWdsh",
        "colab": {
          "base_uri": "https://localhost:8080/",
          "height": 299
        },
        "outputId": "7f7b1b80-5e6d-49cb-c9f4-ec4a906c0402"
      },
      "execution_count": null,
      "outputs": [
        {
          "output_type": "execute_result",
          "data": {
            "text/plain": [
              "   class_param  sns_1_sct_1_plus  sns_1_sct_1_minus  sns_1_sct_2_plus  \\\n",
              "0          2.0          1.070476           1.134191          1.061568   \n",
              "1          4.0          1.062580           0.000000          0.000000   \n",
              "2          1.0          1.067535           1.051729          1.054481   \n",
              "3          1.0          1.088980           1.055896          1.061196   \n",
              "4          2.0          1.081317           1.061869          1.053991   \n",
              "\n",
              "   sns_1_sct_2_minus  sns_1_sct_3_plus  sns_1_sct_3_minus  sns_1_sct_4_plus  \\\n",
              "0           1.063757          1.056732           1.071109          1.063262   \n",
              "1           0.000000          1.610508           1.232604          0.000000   \n",
              "2           1.057698          1.055646           1.062432          1.071453   \n",
              "3           1.138536          1.091437           1.074876          1.061321   \n",
              "4           1.112041          1.073001           1.089580          1.092859   \n",
              "\n",
              "   sns_1_sct_4_minus  sns_1_sct_5_plus  ...  sns_3_sct_28_plus  \\\n",
              "0           1.074886          1.249140  ...                0.0   \n",
              "1           1.184101          1.320536  ...                0.0   \n",
              "2           1.064985          1.065528  ...                0.0   \n",
              "3           1.082646          1.095676  ...                0.0   \n",
              "4           1.097151          1.048954  ...                0.0   \n",
              "\n",
              "   sns_3_sct_28_minus  sns_3_sct_29_plus  sns_3_sct_29_minus  \\\n",
              "0                 0.0                0.0                 0.0   \n",
              "1                 0.0                0.0                 0.0   \n",
              "2                 0.0                0.0                 0.0   \n",
              "3                 0.0                0.0                 0.0   \n",
              "4                 0.0                0.0                 0.0   \n",
              "\n",
              "   sns_3_sct_30_plus  sns_3_sct_30_minus  sns_3_sct_31_plus  \\\n",
              "0                0.0                 0.0                0.0   \n",
              "1                0.0                 0.0                0.0   \n",
              "2                0.0                 0.0                0.0   \n",
              "3                0.0                 0.0                0.0   \n",
              "4                0.0                 0.0                0.0   \n",
              "\n",
              "   sns_3_sct_31_minus  sns_3_sct_32_plus  sns_3_sct_32_minus  \n",
              "0                 0.0                0.0                 0.0  \n",
              "1                 0.0                0.0                 0.0  \n",
              "2                 0.0                0.0                 0.0  \n",
              "3                 0.0                0.0                 0.0  \n",
              "4                 0.0                0.0                 0.0  \n",
              "\n",
              "[5 rows x 193 columns]"
            ],
            "text/html": [
              "\n",
              "\n",
              "  <div id=\"df-94accf55-679c-41ab-844b-6a73fd865803\">\n",
              "    <div class=\"colab-df-container\">\n",
              "      <div>\n",
              "<style scoped>\n",
              "    .dataframe tbody tr th:only-of-type {\n",
              "        vertical-align: middle;\n",
              "    }\n",
              "\n",
              "    .dataframe tbody tr th {\n",
              "        vertical-align: top;\n",
              "    }\n",
              "\n",
              "    .dataframe thead th {\n",
              "        text-align: right;\n",
              "    }\n",
              "</style>\n",
              "<table border=\"1\" class=\"dataframe\">\n",
              "  <thead>\n",
              "    <tr style=\"text-align: right;\">\n",
              "      <th></th>\n",
              "      <th>class_param</th>\n",
              "      <th>sns_1_sct_1_plus</th>\n",
              "      <th>sns_1_sct_1_minus</th>\n",
              "      <th>sns_1_sct_2_plus</th>\n",
              "      <th>sns_1_sct_2_minus</th>\n",
              "      <th>sns_1_sct_3_plus</th>\n",
              "      <th>sns_1_sct_3_minus</th>\n",
              "      <th>sns_1_sct_4_plus</th>\n",
              "      <th>sns_1_sct_4_minus</th>\n",
              "      <th>sns_1_sct_5_plus</th>\n",
              "      <th>...</th>\n",
              "      <th>sns_3_sct_28_plus</th>\n",
              "      <th>sns_3_sct_28_minus</th>\n",
              "      <th>sns_3_sct_29_plus</th>\n",
              "      <th>sns_3_sct_29_minus</th>\n",
              "      <th>sns_3_sct_30_plus</th>\n",
              "      <th>sns_3_sct_30_minus</th>\n",
              "      <th>sns_3_sct_31_plus</th>\n",
              "      <th>sns_3_sct_31_minus</th>\n",
              "      <th>sns_3_sct_32_plus</th>\n",
              "      <th>sns_3_sct_32_minus</th>\n",
              "    </tr>\n",
              "  </thead>\n",
              "  <tbody>\n",
              "    <tr>\n",
              "      <th>0</th>\n",
              "      <td>2.0</td>\n",
              "      <td>1.070476</td>\n",
              "      <td>1.134191</td>\n",
              "      <td>1.061568</td>\n",
              "      <td>1.063757</td>\n",
              "      <td>1.056732</td>\n",
              "      <td>1.071109</td>\n",
              "      <td>1.063262</td>\n",
              "      <td>1.074886</td>\n",
              "      <td>1.249140</td>\n",
              "      <td>...</td>\n",
              "      <td>0.0</td>\n",
              "      <td>0.0</td>\n",
              "      <td>0.0</td>\n",
              "      <td>0.0</td>\n",
              "      <td>0.0</td>\n",
              "      <td>0.0</td>\n",
              "      <td>0.0</td>\n",
              "      <td>0.0</td>\n",
              "      <td>0.0</td>\n",
              "      <td>0.0</td>\n",
              "    </tr>\n",
              "    <tr>\n",
              "      <th>1</th>\n",
              "      <td>4.0</td>\n",
              "      <td>1.062580</td>\n",
              "      <td>0.000000</td>\n",
              "      <td>0.000000</td>\n",
              "      <td>0.000000</td>\n",
              "      <td>1.610508</td>\n",
              "      <td>1.232604</td>\n",
              "      <td>0.000000</td>\n",
              "      <td>1.184101</td>\n",
              "      <td>1.320536</td>\n",
              "      <td>...</td>\n",
              "      <td>0.0</td>\n",
              "      <td>0.0</td>\n",
              "      <td>0.0</td>\n",
              "      <td>0.0</td>\n",
              "      <td>0.0</td>\n",
              "      <td>0.0</td>\n",
              "      <td>0.0</td>\n",
              "      <td>0.0</td>\n",
              "      <td>0.0</td>\n",
              "      <td>0.0</td>\n",
              "    </tr>\n",
              "    <tr>\n",
              "      <th>2</th>\n",
              "      <td>1.0</td>\n",
              "      <td>1.067535</td>\n",
              "      <td>1.051729</td>\n",
              "      <td>1.054481</td>\n",
              "      <td>1.057698</td>\n",
              "      <td>1.055646</td>\n",
              "      <td>1.062432</td>\n",
              "      <td>1.071453</td>\n",
              "      <td>1.064985</td>\n",
              "      <td>1.065528</td>\n",
              "      <td>...</td>\n",
              "      <td>0.0</td>\n",
              "      <td>0.0</td>\n",
              "      <td>0.0</td>\n",
              "      <td>0.0</td>\n",
              "      <td>0.0</td>\n",
              "      <td>0.0</td>\n",
              "      <td>0.0</td>\n",
              "      <td>0.0</td>\n",
              "      <td>0.0</td>\n",
              "      <td>0.0</td>\n",
              "    </tr>\n",
              "    <tr>\n",
              "      <th>3</th>\n",
              "      <td>1.0</td>\n",
              "      <td>1.088980</td>\n",
              "      <td>1.055896</td>\n",
              "      <td>1.061196</td>\n",
              "      <td>1.138536</td>\n",
              "      <td>1.091437</td>\n",
              "      <td>1.074876</td>\n",
              "      <td>1.061321</td>\n",
              "      <td>1.082646</td>\n",
              "      <td>1.095676</td>\n",
              "      <td>...</td>\n",
              "      <td>0.0</td>\n",
              "      <td>0.0</td>\n",
              "      <td>0.0</td>\n",
              "      <td>0.0</td>\n",
              "      <td>0.0</td>\n",
              "      <td>0.0</td>\n",
              "      <td>0.0</td>\n",
              "      <td>0.0</td>\n",
              "      <td>0.0</td>\n",
              "      <td>0.0</td>\n",
              "    </tr>\n",
              "    <tr>\n",
              "      <th>4</th>\n",
              "      <td>2.0</td>\n",
              "      <td>1.081317</td>\n",
              "      <td>1.061869</td>\n",
              "      <td>1.053991</td>\n",
              "      <td>1.112041</td>\n",
              "      <td>1.073001</td>\n",
              "      <td>1.089580</td>\n",
              "      <td>1.092859</td>\n",
              "      <td>1.097151</td>\n",
              "      <td>1.048954</td>\n",
              "      <td>...</td>\n",
              "      <td>0.0</td>\n",
              "      <td>0.0</td>\n",
              "      <td>0.0</td>\n",
              "      <td>0.0</td>\n",
              "      <td>0.0</td>\n",
              "      <td>0.0</td>\n",
              "      <td>0.0</td>\n",
              "      <td>0.0</td>\n",
              "      <td>0.0</td>\n",
              "      <td>0.0</td>\n",
              "    </tr>\n",
              "  </tbody>\n",
              "</table>\n",
              "<p>5 rows × 193 columns</p>\n",
              "</div>\n",
              "      <button class=\"colab-df-convert\" onclick=\"convertToInteractive('df-94accf55-679c-41ab-844b-6a73fd865803')\"\n",
              "              title=\"Convert this dataframe to an interactive table.\"\n",
              "              style=\"display:none;\">\n",
              "\n",
              "  <svg xmlns=\"http://www.w3.org/2000/svg\" height=\"24px\"viewBox=\"0 0 24 24\"\n",
              "       width=\"24px\">\n",
              "    <path d=\"M0 0h24v24H0V0z\" fill=\"none\"/>\n",
              "    <path d=\"M18.56 5.44l.94 2.06.94-2.06 2.06-.94-2.06-.94-.94-2.06-.94 2.06-2.06.94zm-11 1L8.5 8.5l.94-2.06 2.06-.94-2.06-.94L8.5 2.5l-.94 2.06-2.06.94zm10 10l.94 2.06.94-2.06 2.06-.94-2.06-.94-.94-2.06-.94 2.06-2.06.94z\"/><path d=\"M17.41 7.96l-1.37-1.37c-.4-.4-.92-.59-1.43-.59-.52 0-1.04.2-1.43.59L10.3 9.45l-7.72 7.72c-.78.78-.78 2.05 0 2.83L4 21.41c.39.39.9.59 1.41.59.51 0 1.02-.2 1.41-.59l7.78-7.78 2.81-2.81c.8-.78.8-2.07 0-2.86zM5.41 20L4 18.59l7.72-7.72 1.47 1.35L5.41 20z\"/>\n",
              "  </svg>\n",
              "      </button>\n",
              "\n",
              "\n",
              "\n",
              "    <div id=\"df-e1b9a33b-20e6-490e-af57-4ea4edd1c03b\">\n",
              "      <button class=\"colab-df-quickchart\" onclick=\"quickchart('df-e1b9a33b-20e6-490e-af57-4ea4edd1c03b')\"\n",
              "              title=\"Suggest charts.\"\n",
              "              style=\"display:none;\">\n",
              "\n",
              "<svg xmlns=\"http://www.w3.org/2000/svg\" height=\"24px\"viewBox=\"0 0 24 24\"\n",
              "     width=\"24px\">\n",
              "    <g>\n",
              "        <path d=\"M19 3H5c-1.1 0-2 .9-2 2v14c0 1.1.9 2 2 2h14c1.1 0 2-.9 2-2V5c0-1.1-.9-2-2-2zM9 17H7v-7h2v7zm4 0h-2V7h2v10zm4 0h-2v-4h2v4z\"/>\n",
              "    </g>\n",
              "</svg>\n",
              "      </button>\n",
              "    </div>\n",
              "\n",
              "<style>\n",
              "  .colab-df-quickchart {\n",
              "    background-color: #E8F0FE;\n",
              "    border: none;\n",
              "    border-radius: 50%;\n",
              "    cursor: pointer;\n",
              "    display: none;\n",
              "    fill: #1967D2;\n",
              "    height: 32px;\n",
              "    padding: 0 0 0 0;\n",
              "    width: 32px;\n",
              "  }\n",
              "\n",
              "  .colab-df-quickchart:hover {\n",
              "    background-color: #E2EBFA;\n",
              "    box-shadow: 0px 1px 2px rgba(60, 64, 67, 0.3), 0px 1px 3px 1px rgba(60, 64, 67, 0.15);\n",
              "    fill: #174EA6;\n",
              "  }\n",
              "\n",
              "  [theme=dark] .colab-df-quickchart {\n",
              "    background-color: #3B4455;\n",
              "    fill: #D2E3FC;\n",
              "  }\n",
              "\n",
              "  [theme=dark] .colab-df-quickchart:hover {\n",
              "    background-color: #434B5C;\n",
              "    box-shadow: 0px 1px 3px 1px rgba(0, 0, 0, 0.15);\n",
              "    filter: drop-shadow(0px 1px 2px rgba(0, 0, 0, 0.3));\n",
              "    fill: #FFFFFF;\n",
              "  }\n",
              "</style>\n",
              "\n",
              "    <script>\n",
              "      async function quickchart(key) {\n",
              "        const containerElement = document.querySelector('#' + key);\n",
              "        const charts = await google.colab.kernel.invokeFunction(\n",
              "            'suggestCharts', [key], {});\n",
              "      }\n",
              "    </script>\n",
              "\n",
              "      <script>\n",
              "\n",
              "function displayQuickchartButton(domScope) {\n",
              "  let quickchartButtonEl =\n",
              "    domScope.querySelector('#df-e1b9a33b-20e6-490e-af57-4ea4edd1c03b button.colab-df-quickchart');\n",
              "  quickchartButtonEl.style.display =\n",
              "    google.colab.kernel.accessAllowed ? 'block' : 'none';\n",
              "}\n",
              "\n",
              "        displayQuickchartButton(document);\n",
              "      </script>\n",
              "      <style>\n",
              "    .colab-df-container {\n",
              "      display:flex;\n",
              "      flex-wrap:wrap;\n",
              "      gap: 12px;\n",
              "    }\n",
              "\n",
              "    .colab-df-convert {\n",
              "      background-color: #E8F0FE;\n",
              "      border: none;\n",
              "      border-radius: 50%;\n",
              "      cursor: pointer;\n",
              "      display: none;\n",
              "      fill: #1967D2;\n",
              "      height: 32px;\n",
              "      padding: 0 0 0 0;\n",
              "      width: 32px;\n",
              "    }\n",
              "\n",
              "    .colab-df-convert:hover {\n",
              "      background-color: #E2EBFA;\n",
              "      box-shadow: 0px 1px 2px rgba(60, 64, 67, 0.3), 0px 1px 3px 1px rgba(60, 64, 67, 0.15);\n",
              "      fill: #174EA6;\n",
              "    }\n",
              "\n",
              "    [theme=dark] .colab-df-convert {\n",
              "      background-color: #3B4455;\n",
              "      fill: #D2E3FC;\n",
              "    }\n",
              "\n",
              "    [theme=dark] .colab-df-convert:hover {\n",
              "      background-color: #434B5C;\n",
              "      box-shadow: 0px 1px 3px 1px rgba(0, 0, 0, 0.15);\n",
              "      filter: drop-shadow(0px 1px 2px rgba(0, 0, 0, 0.3));\n",
              "      fill: #FFFFFF;\n",
              "    }\n",
              "  </style>\n",
              "\n",
              "      <script>\n",
              "        const buttonEl =\n",
              "          document.querySelector('#df-94accf55-679c-41ab-844b-6a73fd865803 button.colab-df-convert');\n",
              "        buttonEl.style.display =\n",
              "          google.colab.kernel.accessAllowed ? 'block' : 'none';\n",
              "\n",
              "        async function convertToInteractive(key) {\n",
              "          const element = document.querySelector('#df-94accf55-679c-41ab-844b-6a73fd865803');\n",
              "          const dataTable =\n",
              "            await google.colab.kernel.invokeFunction('convertToInteractive',\n",
              "                                                     [key], {});\n",
              "          if (!dataTable) return;\n",
              "\n",
              "          const docLinkHtml = 'Like what you see? Visit the ' +\n",
              "            '<a target=\"_blank\" href=https://colab.research.google.com/notebooks/data_table.ipynb>data table notebook</a>'\n",
              "            + ' to learn more about interactive tables.';\n",
              "          element.innerHTML = '';\n",
              "          dataTable['output_type'] = 'display_data';\n",
              "          await google.colab.output.renderOutput(dataTable, element);\n",
              "          const docLink = document.createElement('div');\n",
              "          docLink.innerHTML = docLinkHtml;\n",
              "          element.appendChild(docLink);\n",
              "        }\n",
              "      </script>\n",
              "    </div>\n",
              "  </div>\n"
            ]
          },
          "metadata": {},
          "execution_count": 2
        }
      ]
    },
    {
      "cell_type": "code",
      "source": [
        " # где-то плохая обработка, потому что классов только 4. Уберём плохие\n",
        "data['class_param'].unique()"
      ],
      "metadata": {
        "colab": {
          "base_uri": "https://localhost:8080/"
        },
        "id": "orclwz4mw21C",
        "outputId": "fa7506aa-531c-45f3-ae23-ba6d99e245e6"
      },
      "execution_count": null,
      "outputs": [
        {
          "output_type": "execute_result",
          "data": {
            "text/plain": [
              "array([ 2.,  4.,  1.,  3.,  0., nan])"
            ]
          },
          "metadata": {},
          "execution_count": 3
        }
      ]
    },
    {
      "cell_type": "code",
      "source": [
        "data.class_param.fillna(0, inplace=True)\n",
        "data = data.query('class_param != 0')\n",
        "data['class_param'].unique()"
      ],
      "metadata": {
        "colab": {
          "base_uri": "https://localhost:8080/"
        },
        "id": "VrSnDWkm0K2O",
        "outputId": "63689fbf-cf66-4b6a-b8db-470322738e6a"
      },
      "execution_count": null,
      "outputs": [
        {
          "output_type": "execute_result",
          "data": {
            "text/plain": [
              "array([2., 4., 1., 3.])"
            ]
          },
          "metadata": {},
          "execution_count": 4
        }
      ]
    },
    {
      "cell_type": "code",
      "source": [
        "data = data.astype({'class_param': 'int'})\n",
        "data.head()"
      ],
      "metadata": {
        "colab": {
          "base_uri": "https://localhost:8080/",
          "height": 299
        },
        "id": "I9E4RGMJ0cEV",
        "outputId": "c6224d8e-4ab6-4155-bbc6-0a71c6090c0a"
      },
      "execution_count": null,
      "outputs": [
        {
          "output_type": "execute_result",
          "data": {
            "text/plain": [
              "   class_param  sns_1_sct_1_plus  sns_1_sct_1_minus  sns_1_sct_2_plus  \\\n",
              "0            2          1.070476           1.134191          1.061568   \n",
              "1            4          1.062580           0.000000          0.000000   \n",
              "2            1          1.067535           1.051729          1.054481   \n",
              "3            1          1.088980           1.055896          1.061196   \n",
              "4            2          1.081317           1.061869          1.053991   \n",
              "\n",
              "   sns_1_sct_2_minus  sns_1_sct_3_plus  sns_1_sct_3_minus  sns_1_sct_4_plus  \\\n",
              "0           1.063757          1.056732           1.071109          1.063262   \n",
              "1           0.000000          1.610508           1.232604          0.000000   \n",
              "2           1.057698          1.055646           1.062432          1.071453   \n",
              "3           1.138536          1.091437           1.074876          1.061321   \n",
              "4           1.112041          1.073001           1.089580          1.092859   \n",
              "\n",
              "   sns_1_sct_4_minus  sns_1_sct_5_plus  ...  sns_3_sct_28_plus  \\\n",
              "0           1.074886          1.249140  ...                0.0   \n",
              "1           1.184101          1.320536  ...                0.0   \n",
              "2           1.064985          1.065528  ...                0.0   \n",
              "3           1.082646          1.095676  ...                0.0   \n",
              "4           1.097151          1.048954  ...                0.0   \n",
              "\n",
              "   sns_3_sct_28_minus  sns_3_sct_29_plus  sns_3_sct_29_minus  \\\n",
              "0                 0.0                0.0                 0.0   \n",
              "1                 0.0                0.0                 0.0   \n",
              "2                 0.0                0.0                 0.0   \n",
              "3                 0.0                0.0                 0.0   \n",
              "4                 0.0                0.0                 0.0   \n",
              "\n",
              "   sns_3_sct_30_plus  sns_3_sct_30_minus  sns_3_sct_31_plus  \\\n",
              "0                0.0                 0.0                0.0   \n",
              "1                0.0                 0.0                0.0   \n",
              "2                0.0                 0.0                0.0   \n",
              "3                0.0                 0.0                0.0   \n",
              "4                0.0                 0.0                0.0   \n",
              "\n",
              "   sns_3_sct_31_minus  sns_3_sct_32_plus  sns_3_sct_32_minus  \n",
              "0                 0.0                0.0                 0.0  \n",
              "1                 0.0                0.0                 0.0  \n",
              "2                 0.0                0.0                 0.0  \n",
              "3                 0.0                0.0                 0.0  \n",
              "4                 0.0                0.0                 0.0  \n",
              "\n",
              "[5 rows x 193 columns]"
            ],
            "text/html": [
              "\n",
              "\n",
              "  <div id=\"df-eb91be0b-88ed-45f5-8b52-869442ca314b\">\n",
              "    <div class=\"colab-df-container\">\n",
              "      <div>\n",
              "<style scoped>\n",
              "    .dataframe tbody tr th:only-of-type {\n",
              "        vertical-align: middle;\n",
              "    }\n",
              "\n",
              "    .dataframe tbody tr th {\n",
              "        vertical-align: top;\n",
              "    }\n",
              "\n",
              "    .dataframe thead th {\n",
              "        text-align: right;\n",
              "    }\n",
              "</style>\n",
              "<table border=\"1\" class=\"dataframe\">\n",
              "  <thead>\n",
              "    <tr style=\"text-align: right;\">\n",
              "      <th></th>\n",
              "      <th>class_param</th>\n",
              "      <th>sns_1_sct_1_plus</th>\n",
              "      <th>sns_1_sct_1_minus</th>\n",
              "      <th>sns_1_sct_2_plus</th>\n",
              "      <th>sns_1_sct_2_minus</th>\n",
              "      <th>sns_1_sct_3_plus</th>\n",
              "      <th>sns_1_sct_3_minus</th>\n",
              "      <th>sns_1_sct_4_plus</th>\n",
              "      <th>sns_1_sct_4_minus</th>\n",
              "      <th>sns_1_sct_5_plus</th>\n",
              "      <th>...</th>\n",
              "      <th>sns_3_sct_28_plus</th>\n",
              "      <th>sns_3_sct_28_minus</th>\n",
              "      <th>sns_3_sct_29_plus</th>\n",
              "      <th>sns_3_sct_29_minus</th>\n",
              "      <th>sns_3_sct_30_plus</th>\n",
              "      <th>sns_3_sct_30_minus</th>\n",
              "      <th>sns_3_sct_31_plus</th>\n",
              "      <th>sns_3_sct_31_minus</th>\n",
              "      <th>sns_3_sct_32_plus</th>\n",
              "      <th>sns_3_sct_32_minus</th>\n",
              "    </tr>\n",
              "  </thead>\n",
              "  <tbody>\n",
              "    <tr>\n",
              "      <th>0</th>\n",
              "      <td>2</td>\n",
              "      <td>1.070476</td>\n",
              "      <td>1.134191</td>\n",
              "      <td>1.061568</td>\n",
              "      <td>1.063757</td>\n",
              "      <td>1.056732</td>\n",
              "      <td>1.071109</td>\n",
              "      <td>1.063262</td>\n",
              "      <td>1.074886</td>\n",
              "      <td>1.249140</td>\n",
              "      <td>...</td>\n",
              "      <td>0.0</td>\n",
              "      <td>0.0</td>\n",
              "      <td>0.0</td>\n",
              "      <td>0.0</td>\n",
              "      <td>0.0</td>\n",
              "      <td>0.0</td>\n",
              "      <td>0.0</td>\n",
              "      <td>0.0</td>\n",
              "      <td>0.0</td>\n",
              "      <td>0.0</td>\n",
              "    </tr>\n",
              "    <tr>\n",
              "      <th>1</th>\n",
              "      <td>4</td>\n",
              "      <td>1.062580</td>\n",
              "      <td>0.000000</td>\n",
              "      <td>0.000000</td>\n",
              "      <td>0.000000</td>\n",
              "      <td>1.610508</td>\n",
              "      <td>1.232604</td>\n",
              "      <td>0.000000</td>\n",
              "      <td>1.184101</td>\n",
              "      <td>1.320536</td>\n",
              "      <td>...</td>\n",
              "      <td>0.0</td>\n",
              "      <td>0.0</td>\n",
              "      <td>0.0</td>\n",
              "      <td>0.0</td>\n",
              "      <td>0.0</td>\n",
              "      <td>0.0</td>\n",
              "      <td>0.0</td>\n",
              "      <td>0.0</td>\n",
              "      <td>0.0</td>\n",
              "      <td>0.0</td>\n",
              "    </tr>\n",
              "    <tr>\n",
              "      <th>2</th>\n",
              "      <td>1</td>\n",
              "      <td>1.067535</td>\n",
              "      <td>1.051729</td>\n",
              "      <td>1.054481</td>\n",
              "      <td>1.057698</td>\n",
              "      <td>1.055646</td>\n",
              "      <td>1.062432</td>\n",
              "      <td>1.071453</td>\n",
              "      <td>1.064985</td>\n",
              "      <td>1.065528</td>\n",
              "      <td>...</td>\n",
              "      <td>0.0</td>\n",
              "      <td>0.0</td>\n",
              "      <td>0.0</td>\n",
              "      <td>0.0</td>\n",
              "      <td>0.0</td>\n",
              "      <td>0.0</td>\n",
              "      <td>0.0</td>\n",
              "      <td>0.0</td>\n",
              "      <td>0.0</td>\n",
              "      <td>0.0</td>\n",
              "    </tr>\n",
              "    <tr>\n",
              "      <th>3</th>\n",
              "      <td>1</td>\n",
              "      <td>1.088980</td>\n",
              "      <td>1.055896</td>\n",
              "      <td>1.061196</td>\n",
              "      <td>1.138536</td>\n",
              "      <td>1.091437</td>\n",
              "      <td>1.074876</td>\n",
              "      <td>1.061321</td>\n",
              "      <td>1.082646</td>\n",
              "      <td>1.095676</td>\n",
              "      <td>...</td>\n",
              "      <td>0.0</td>\n",
              "      <td>0.0</td>\n",
              "      <td>0.0</td>\n",
              "      <td>0.0</td>\n",
              "      <td>0.0</td>\n",
              "      <td>0.0</td>\n",
              "      <td>0.0</td>\n",
              "      <td>0.0</td>\n",
              "      <td>0.0</td>\n",
              "      <td>0.0</td>\n",
              "    </tr>\n",
              "    <tr>\n",
              "      <th>4</th>\n",
              "      <td>2</td>\n",
              "      <td>1.081317</td>\n",
              "      <td>1.061869</td>\n",
              "      <td>1.053991</td>\n",
              "      <td>1.112041</td>\n",
              "      <td>1.073001</td>\n",
              "      <td>1.089580</td>\n",
              "      <td>1.092859</td>\n",
              "      <td>1.097151</td>\n",
              "      <td>1.048954</td>\n",
              "      <td>...</td>\n",
              "      <td>0.0</td>\n",
              "      <td>0.0</td>\n",
              "      <td>0.0</td>\n",
              "      <td>0.0</td>\n",
              "      <td>0.0</td>\n",
              "      <td>0.0</td>\n",
              "      <td>0.0</td>\n",
              "      <td>0.0</td>\n",
              "      <td>0.0</td>\n",
              "      <td>0.0</td>\n",
              "    </tr>\n",
              "  </tbody>\n",
              "</table>\n",
              "<p>5 rows × 193 columns</p>\n",
              "</div>\n",
              "      <button class=\"colab-df-convert\" onclick=\"convertToInteractive('df-eb91be0b-88ed-45f5-8b52-869442ca314b')\"\n",
              "              title=\"Convert this dataframe to an interactive table.\"\n",
              "              style=\"display:none;\">\n",
              "\n",
              "  <svg xmlns=\"http://www.w3.org/2000/svg\" height=\"24px\"viewBox=\"0 0 24 24\"\n",
              "       width=\"24px\">\n",
              "    <path d=\"M0 0h24v24H0V0z\" fill=\"none\"/>\n",
              "    <path d=\"M18.56 5.44l.94 2.06.94-2.06 2.06-.94-2.06-.94-.94-2.06-.94 2.06-2.06.94zm-11 1L8.5 8.5l.94-2.06 2.06-.94-2.06-.94L8.5 2.5l-.94 2.06-2.06.94zm10 10l.94 2.06.94-2.06 2.06-.94-2.06-.94-.94-2.06-.94 2.06-2.06.94z\"/><path d=\"M17.41 7.96l-1.37-1.37c-.4-.4-.92-.59-1.43-.59-.52 0-1.04.2-1.43.59L10.3 9.45l-7.72 7.72c-.78.78-.78 2.05 0 2.83L4 21.41c.39.39.9.59 1.41.59.51 0 1.02-.2 1.41-.59l7.78-7.78 2.81-2.81c.8-.78.8-2.07 0-2.86zM5.41 20L4 18.59l7.72-7.72 1.47 1.35L5.41 20z\"/>\n",
              "  </svg>\n",
              "      </button>\n",
              "\n",
              "\n",
              "\n",
              "    <div id=\"df-a068a1fe-8730-4235-9720-ba997543a508\">\n",
              "      <button class=\"colab-df-quickchart\" onclick=\"quickchart('df-a068a1fe-8730-4235-9720-ba997543a508')\"\n",
              "              title=\"Suggest charts.\"\n",
              "              style=\"display:none;\">\n",
              "\n",
              "<svg xmlns=\"http://www.w3.org/2000/svg\" height=\"24px\"viewBox=\"0 0 24 24\"\n",
              "     width=\"24px\">\n",
              "    <g>\n",
              "        <path d=\"M19 3H5c-1.1 0-2 .9-2 2v14c0 1.1.9 2 2 2h14c1.1 0 2-.9 2-2V5c0-1.1-.9-2-2-2zM9 17H7v-7h2v7zm4 0h-2V7h2v10zm4 0h-2v-4h2v4z\"/>\n",
              "    </g>\n",
              "</svg>\n",
              "      </button>\n",
              "    </div>\n",
              "\n",
              "<style>\n",
              "  .colab-df-quickchart {\n",
              "    background-color: #E8F0FE;\n",
              "    border: none;\n",
              "    border-radius: 50%;\n",
              "    cursor: pointer;\n",
              "    display: none;\n",
              "    fill: #1967D2;\n",
              "    height: 32px;\n",
              "    padding: 0 0 0 0;\n",
              "    width: 32px;\n",
              "  }\n",
              "\n",
              "  .colab-df-quickchart:hover {\n",
              "    background-color: #E2EBFA;\n",
              "    box-shadow: 0px 1px 2px rgba(60, 64, 67, 0.3), 0px 1px 3px 1px rgba(60, 64, 67, 0.15);\n",
              "    fill: #174EA6;\n",
              "  }\n",
              "\n",
              "  [theme=dark] .colab-df-quickchart {\n",
              "    background-color: #3B4455;\n",
              "    fill: #D2E3FC;\n",
              "  }\n",
              "\n",
              "  [theme=dark] .colab-df-quickchart:hover {\n",
              "    background-color: #434B5C;\n",
              "    box-shadow: 0px 1px 3px 1px rgba(0, 0, 0, 0.15);\n",
              "    filter: drop-shadow(0px 1px 2px rgba(0, 0, 0, 0.3));\n",
              "    fill: #FFFFFF;\n",
              "  }\n",
              "</style>\n",
              "\n",
              "    <script>\n",
              "      async function quickchart(key) {\n",
              "        const containerElement = document.querySelector('#' + key);\n",
              "        const charts = await google.colab.kernel.invokeFunction(\n",
              "            'suggestCharts', [key], {});\n",
              "      }\n",
              "    </script>\n",
              "\n",
              "      <script>\n",
              "\n",
              "function displayQuickchartButton(domScope) {\n",
              "  let quickchartButtonEl =\n",
              "    domScope.querySelector('#df-a068a1fe-8730-4235-9720-ba997543a508 button.colab-df-quickchart');\n",
              "  quickchartButtonEl.style.display =\n",
              "    google.colab.kernel.accessAllowed ? 'block' : 'none';\n",
              "}\n",
              "\n",
              "        displayQuickchartButton(document);\n",
              "      </script>\n",
              "      <style>\n",
              "    .colab-df-container {\n",
              "      display:flex;\n",
              "      flex-wrap:wrap;\n",
              "      gap: 12px;\n",
              "    }\n",
              "\n",
              "    .colab-df-convert {\n",
              "      background-color: #E8F0FE;\n",
              "      border: none;\n",
              "      border-radius: 50%;\n",
              "      cursor: pointer;\n",
              "      display: none;\n",
              "      fill: #1967D2;\n",
              "      height: 32px;\n",
              "      padding: 0 0 0 0;\n",
              "      width: 32px;\n",
              "    }\n",
              "\n",
              "    .colab-df-convert:hover {\n",
              "      background-color: #E2EBFA;\n",
              "      box-shadow: 0px 1px 2px rgba(60, 64, 67, 0.3), 0px 1px 3px 1px rgba(60, 64, 67, 0.15);\n",
              "      fill: #174EA6;\n",
              "    }\n",
              "\n",
              "    [theme=dark] .colab-df-convert {\n",
              "      background-color: #3B4455;\n",
              "      fill: #D2E3FC;\n",
              "    }\n",
              "\n",
              "    [theme=dark] .colab-df-convert:hover {\n",
              "      background-color: #434B5C;\n",
              "      box-shadow: 0px 1px 3px 1px rgba(0, 0, 0, 0.15);\n",
              "      filter: drop-shadow(0px 1px 2px rgba(0, 0, 0, 0.3));\n",
              "      fill: #FFFFFF;\n",
              "    }\n",
              "  </style>\n",
              "\n",
              "      <script>\n",
              "        const buttonEl =\n",
              "          document.querySelector('#df-eb91be0b-88ed-45f5-8b52-869442ca314b button.colab-df-convert');\n",
              "        buttonEl.style.display =\n",
              "          google.colab.kernel.accessAllowed ? 'block' : 'none';\n",
              "\n",
              "        async function convertToInteractive(key) {\n",
              "          const element = document.querySelector('#df-eb91be0b-88ed-45f5-8b52-869442ca314b');\n",
              "          const dataTable =\n",
              "            await google.colab.kernel.invokeFunction('convertToInteractive',\n",
              "                                                     [key], {});\n",
              "          if (!dataTable) return;\n",
              "\n",
              "          const docLinkHtml = 'Like what you see? Visit the ' +\n",
              "            '<a target=\"_blank\" href=https://colab.research.google.com/notebooks/data_table.ipynb>data table notebook</a>'\n",
              "            + ' to learn more about interactive tables.';\n",
              "          element.innerHTML = '';\n",
              "          dataTable['output_type'] = 'display_data';\n",
              "          await google.colab.output.renderOutput(dataTable, element);\n",
              "          const docLink = document.createElement('div');\n",
              "          docLink.innerHTML = docLinkHtml;\n",
              "          element.appendChild(docLink);\n",
              "        }\n",
              "      </script>\n",
              "    </div>\n",
              "  </div>\n"
            ]
          },
          "metadata": {},
          "execution_count": 5
        }
      ]
    },
    {
      "cell_type": "code",
      "source": [
        "data.class_param.hist()"
      ],
      "metadata": {
        "colab": {
          "base_uri": "https://localhost:8080/",
          "height": 447
        },
        "id": "QEx4HhhlANYu",
        "outputId": "cfbeb7be-9bf3-4756-f664-078231fe2123"
      },
      "execution_count": null,
      "outputs": [
        {
          "output_type": "execute_result",
          "data": {
            "text/plain": [
              "<Axes: >"
            ]
          },
          "metadata": {},
          "execution_count": 6
        },
        {
          "output_type": "display_data",
          "data": {
            "text/plain": [
              "<Figure size 640x480 with 1 Axes>"
            ],
            "image/png": "[encoded data removed]"
          },
          "metadata": {}
        }
      ]
    },
    {
      "cell_type": "code",
      "source": [
        "data.shape"
      ],
      "metadata": {
        "colab": {
          "base_uri": "https://localhost:8080/"
        },
        "id": "gfWM__WOqzQd",
        "outputId": "300af620-ec5e-4d85-aeba-faefda9b3f82"
      },
      "execution_count": null,
      "outputs": [
        {
          "output_type": "execute_result",
          "data": {
            "text/plain": [
              "(198649, 193)"
            ]
          },
          "metadata": {},
          "execution_count": 7
        }
      ]
    },
    {
      "cell_type": "markdown",
      "source": [
        "# Models"
      ],
      "metadata": {
        "id": "FPhK5rVr5FI3"
      }
    },
    {
      "cell_type": "code",
      "source": [
        "from sklearn.model_selection import train_test_split"
      ],
      "metadata": {
        "id": "20EcmKsWIosN"
      },
      "execution_count": null,
      "outputs": []
    },
    {
      "cell_type": "code",
      "source": [
        "Y = data['class_param']\n",
        "X = data.drop(columns='class_param')"
      ],
      "metadata": {
        "id": "Bx2t5YzrWvNP"
      },
      "execution_count": null,
      "outputs": []
    },
    {
      "cell_type": "code",
      "source": [
        "X_train, X_test, y_train, y_test = train_test_split(X, Y, train_size=0.7, random_state=42)\n",
        "X_train.shape, X_test.shape, y_train.shape, y_test.shape"
      ],
      "metadata": {
        "id": "4nmZVWdoXtL-",
        "colab": {
          "base_uri": "https://localhost:8080/"
        },
        "outputId": "6362cfb5-d0a9-47c1-e26d-da53b0f8caa4"
      },
      "execution_count": null,
      "outputs": [
        {
          "output_type": "execute_result",
          "data": {
            "text/plain": [
              "((139054, 192), (59595, 192), (139054,), (59595,))"
            ]
          },
          "metadata": {},
          "execution_count": 10
        }
      ]
    },
    {
      "cell_type": "markdown",
      "source": [
        "## XGBoost"
      ],
      "metadata": {
        "id": "xI-8qysTKRqm"
      }
    },
    {
      "cell_type": "code",
      "source": [
        "from sklearn.preprocessing import LabelEncoder\n",
        "from xgboost import XGBClassifier\n",
        "\n",
        "le = LabelEncoder()\n",
        "\n",
        "# сделаем преобразование классов, для работы алгоритма\n",
        "y_train = le.fit_transform(y_train)\n",
        "y_test = le.fit_transform(y_test)\n",
        "y_train, y_test"
      ],
      "metadata": {
        "colab": {
          "base_uri": "https://localhost:8080/"
        },
        "id": "MDVTEcFSVXWj",
        "outputId": "3a2c8891-c58b-440e-acb7-834f7fbe8d76"
      },
      "execution_count": null,
      "outputs": [
        {
          "output_type": "execute_result",
          "data": {
            "text/plain": [
              "(array([2, 1, 0, ..., 3, 3, 0]), array([0, 3, 1, ..., 1, 0, 0]))"
            ]
          },
          "metadata": {},
          "execution_count": 11
        }
      ]
    },
    {
      "cell_type": "code",
      "source": [
        "# шаг и дипазон learning_rate можно увеличить\n",
        "params = {'n_estimators': range(10, 101, 10), 'max_depth': range(3, 8), 'learning_rate': np.arange(0.01, 0.101, 0.01)}\n",
        "\n",
        "xgb_cl = XGBClassifier(tree_method='gpu_hist')\n",
        "xgb_cv = GridSearchCV(xgb_cl, params, cv=4)"
      ],
      "metadata": {
        "id": "dw2cnxQrV47y"
      },
      "execution_count": null,
      "outputs": []
    },
    {
      "cell_type": "code",
      "source": [
        "xgb_cv.fit(X_train.values, y_train)"
      ],
      "metadata": {
        "colab": {
          "base_uri": "https://localhost:8080/",
          "height": 117
        },
        "id": "OvMKuiiDlcXg",
        "outputId": "7b85bcd6-ee14-4740-d187-5e57b522318e"
      },
      "execution_count": null,
      "outputs": [
        {
          "output_type": "execute_result",
          "data": {
            "text/plain": [
              "GridSearchCV(cv=4,\n",
              "             estimator=XGBClassifier(base_score=None, booster=None,\n",
              "                                     callbacks=None, colsample_bylevel=None,\n",
              "                                     colsample_bynode=None,\n",
              "                                     colsample_bytree=None,\n",
              "                                     early_stopping_rounds=None,\n",
              "                                     enable_categorical=False, eval_metric=None,\n",
              "                                     feature_types=None, gamma=None,\n",
              "                                     gpu_id=None, grow_policy=None,\n",
              "                                     importance_type=None,\n",
              "                                     interaction_constraints=None,\n",
              "                                     learning_rate=None,...\n",
              "                                     max_cat_to_onehot=None,\n",
              "                                     max_delta_step=None, max_depth=None,\n",
              "                                     max_leaves=None, min_child_weight=None,\n",
              "                                     missing=nan, monotone_constraints=None,\n",
              "                                     n_estimators=100, n_jobs=None,\n",
              "                                     num_parallel_tree=None, predictor=None,\n",
              "                                     random_state=None, ...),\n",
              "             param_grid={'learning_rate': array([0.01, 0.02, 0.03, 0.04, 0.05, 0.06, 0.07, 0.08, 0.09, 0.1 ]),\n",
              "                         'max_depth': range(3, 8),\n",
              "                         'n_estimators': range(10, 101, 10)})"
            ],
            "text/html": [
              "<style>#sk-container-id-7 {color: black;background-color: white;}#sk-container-id-7 pre{padding: 0;}#sk-container-id-7 div.sk-toggleable {background-color: white;}#sk-container-id-7 label.sk-toggleable__label {cursor: pointer;display: block;width: 100%;margin-bottom: 0;padding: 0.3em;box-sizing: border-box;text-align: center;}#sk-container-id-7 label.sk-toggleable__label-arrow:before {content: \"▸\";float: left;margin-right: 0.25em;color: #696969;}#sk-container-id-7 label.sk-toggleable__label-arrow:hover:before {color: black;}#sk-container-id-7 div.sk-estimator:hover label.sk-toggleable__label-arrow:before {color: black;}#sk-container-id-7 div.sk-toggleable__content {max-height: 0;max-width: 0;overflow: hidden;text-align: left;background-color: #f0f8ff;}#sk-container-id-7 div.sk-toggleable__content pre {margin: 0.2em;color: black;border-radius: 0.25em;background-color: #f0f8ff;}#sk-container-id-7 input.sk-toggleable__control:checked~div.sk-toggleable__content {max-height: 200px;max-width: 100%;overflow: auto;}#sk-container-id-7 input.sk-toggleable__control:checked~label.sk-toggleable__label-arrow:before {content: \"▾\";}#sk-container-id-7 div.sk-estimator input.sk-toggleable__control:checked~label.sk-toggleable__label {background-color: #d4ebff;}#sk-container-id-7 div.sk-label input.sk-toggleable__control:checked~label.sk-toggleable__label {background-color: #d4ebff;}#sk-container-id-7 input.sk-hidden--visually {border: 0;clip: rect(1px 1px 1px 1px);clip: rect(1px, 1px, 1px, 1px);height: 1px;margin: -1px;overflow: hidden;padding: 0;position: absolute;width: 1px;}#sk-container-id-7 div.sk-estimator {font-family: monospace;background-color: #f0f8ff;border: 1px dotted black;border-radius: 0.25em;box-sizing: border-box;margin-bottom: 0.5em;}#sk-container-id-7 div.sk-estimator:hover {background-color: #d4ebff;}#sk-container-id-7 div.sk-parallel-item::after {content: \"\";width: 100%;border-bottom: 1px solid gray;flex-grow: 1;}#sk-container-id-7 div.sk-label:hover label.sk-toggleable__label {background-color: #d4ebff;}#sk-container-id-7 div.sk-serial::before {content: \"\";position: absolute;border-left: 1px solid gray;box-sizing: border-box;top: 0;bottom: 0;left: 50%;z-index: 0;}#sk-container-id-7 div.sk-serial {display: flex;flex-direction: column;align-items: center;background-color: white;padding-right: 0.2em;padding-left: 0.2em;position: relative;}#sk-container-id-7 div.sk-item {position: relative;z-index: 1;}#sk-container-id-7 div.sk-parallel {display: flex;align-items: stretch;justify-content: center;background-color: white;position: relative;}#sk-container-id-7 div.sk-item::before, #sk-container-id-7 div.sk-parallel-item::before {content: \"\";position: absolute;border-left: 1px solid gray;box-sizing: border-box;top: 0;bottom: 0;left: 50%;z-index: -1;}#sk-container-id-7 div.sk-parallel-item {display: flex;flex-direction: column;z-index: 1;position: relative;background-color: white;}#sk-container-id-7 div.sk-parallel-item:first-child::after {align-self: flex-end;width: 50%;}#sk-container-id-7 div.sk-parallel-item:last-child::after {align-self: flex-start;width: 50%;}#sk-container-id-7 div.sk-parallel-item:only-child::after {width: 0;}#sk-container-id-7 div.sk-dashed-wrapped {border: 1px dashed gray;margin: 0 0.4em 0.5em 0.4em;box-sizing: border-box;padding-bottom: 0.4em;background-color: white;}#sk-container-id-7 div.sk-label label {font-family: monospace;font-weight: bold;display: inline-block;line-height: 1.2em;}#sk-container-id-7 div.sk-label-container {text-align: center;}#sk-container-id-7 div.sk-container {/* jupyter's `normalize.less` sets `[hidden] { display: none; }` but bootstrap.min.css set `[hidden] { display: none !important; }` so we also need the `!important` here to be able to override the default hidden behavior on the sphinx rendered scikit-learn.org. See: https://github.com/scikit-learn/scikit-learn/issues/21755 */display: inline-block !important;position: relative;}#sk-container-id-7 div.sk-text-repr-fallback {display: none;}</style><div id=\"sk-container-id-7\" class=\"sk-top-container\"><div class=\"sk-text-repr-fallback\"><pre>GridSearchCV(cv=4,\n",
              "             estimator=XGBClassifier(base_score=None, booster=None,\n",
              "                                     callbacks=None, colsample_bylevel=None,\n",
              "                                     colsample_bynode=None,\n",
              "                                     colsample_bytree=None,\n",
              "                                     early_stopping_rounds=None,\n",
              "                                     enable_categorical=False, eval_metric=None,\n",
              "                                     feature_types=None, gamma=None,\n",
              "                                     gpu_id=None, grow_policy=None,\n",
              "                                     importance_type=None,\n",
              "                                     interaction_constraints=None,\n",
              "                                     learning_rate=None,...\n",
              "                                     max_cat_to_onehot=None,\n",
              "                                     max_delta_step=None, max_depth=None,\n",
              "                                     max_leaves=None, min_child_weight=None,\n",
              "                                     missing=nan, monotone_constraints=None,\n",
              "                                     n_estimators=100, n_jobs=None,\n",
              "                                     num_parallel_tree=None, predictor=None,\n",
              "                                     random_state=None, ...),\n",
              "             param_grid={&#x27;learning_rate&#x27;: array([0.01, 0.02, 0.03, 0.04, 0.05, 0.06, 0.07, 0.08, 0.09, 0.1 ]),\n",
              "                         &#x27;max_depth&#x27;: range(3, 8),\n",
              "                         &#x27;n_estimators&#x27;: range(10, 101, 10)})</pre><b>In a Jupyter environment, please rerun this cell to show the HTML representation or trust the notebook. <br />On GitHub, the HTML representation is unable to render, please try loading this page with nbviewer.org.</b></div><div class=\"sk-container\" hidden><div class=\"sk-item sk-dashed-wrapped\"><div class=\"sk-label-container\"><div class=\"sk-label sk-toggleable\"><input class=\"sk-toggleable__control sk-hidden--visually\" id=\"sk-estimator-id-7\" type=\"checkbox\" ><label for=\"sk-estimator-id-7\" class=\"sk-toggleable__label sk-toggleable__label-arrow\">GridSearchCV</label><div class=\"sk-toggleable__content\"><pre>GridSearchCV(cv=4,\n",
              "             estimator=XGBClassifier(base_score=None, booster=None,\n",
              "                                     callbacks=None, colsample_bylevel=None,\n",
              "                                     colsample_bynode=None,\n",
              "                                     colsample_bytree=None,\n",
              "                                     early_stopping_rounds=None,\n",
              "                                     enable_categorical=False, eval_metric=None,\n",
              "                                     feature_types=None, gamma=None,\n",
              "                                     gpu_id=None, grow_policy=None,\n",
              "                                     importance_type=None,\n",
              "                                     interaction_constraints=None,\n",
              "                                     learning_rate=None,...\n",
              "                                     max_cat_to_onehot=None,\n",
              "                                     max_delta_step=None, max_depth=None,\n",
              "                                     max_leaves=None, min_child_weight=None,\n",
              "                                     missing=nan, monotone_constraints=None,\n",
              "                                     n_estimators=100, n_jobs=None,\n",
              "                                     num_parallel_tree=None, predictor=None,\n",
              "                                     random_state=None, ...),\n",
              "             param_grid={&#x27;learning_rate&#x27;: array([0.01, 0.02, 0.03, 0.04, 0.05, 0.06, 0.07, 0.08, 0.09, 0.1 ]),\n",
              "                         &#x27;max_depth&#x27;: range(3, 8),\n",
              "                         &#x27;n_estimators&#x27;: range(10, 101, 10)})</pre></div></div></div><div class=\"sk-parallel\"><div class=\"sk-parallel-item\"><div class=\"sk-item\"><div class=\"sk-label-container\"><div class=\"sk-label sk-toggleable\"><input class=\"sk-toggleable__control sk-hidden--visually\" id=\"sk-estimator-id-8\" type=\"checkbox\" ><label for=\"sk-estimator-id-8\" class=\"sk-toggleable__label sk-toggleable__label-arrow\">estimator: XGBClassifier</label><div class=\"sk-toggleable__content\"><pre>XGBClassifier(base_score=None, booster=None, callbacks=None,\n",
              "              colsample_bylevel=None, colsample_bynode=None,\n",
              "              colsample_bytree=None, early_stopping_rounds=None,\n",
              "              enable_categorical=False, eval_metric=None, feature_types=None,\n",
              "              gamma=None, gpu_id=None, grow_policy=None, importance_type=None,\n",
              "              interaction_constraints=None, learning_rate=None, max_bin=None,\n",
              "              max_cat_threshold=None, max_cat_to_onehot=None,\n",
              "              max_delta_step=None, max_depth=None, max_leaves=None,\n",
              "              min_child_weight=None, missing=nan, monotone_constraints=None,\n",
              "              n_estimators=100, n_jobs=None, num_parallel_tree=None,\n",
              "              predictor=None, random_state=None, ...)</pre></div></div></div><div class=\"sk-serial\"><div class=\"sk-item\"><div class=\"sk-estimator sk-toggleable\"><input class=\"sk-toggleable__control sk-hidden--visually\" id=\"sk-estimator-id-9\" type=\"checkbox\" ><label for=\"sk-estimator-id-9\" class=\"sk-toggleable__label sk-toggleable__label-arrow\">XGBClassifier</label><div class=\"sk-toggleable__content\"><pre>XGBClassifier(base_score=None, booster=None, callbacks=None,\n",
              "              colsample_bylevel=None, colsample_bynode=None,\n",
              "              colsample_bytree=None, early_stopping_rounds=None,\n",
              "              enable_categorical=False, eval_metric=None, feature_types=None,\n",
              "              gamma=None, gpu_id=None, grow_policy=None, importance_type=None,\n",
              "              interaction_constraints=None, learning_rate=None, max_bin=None,\n",
              "              max_cat_threshold=None, max_cat_to_onehot=None,\n",
              "              max_delta_step=None, max_depth=None, max_leaves=None,\n",
              "              min_child_weight=None, missing=nan, monotone_constraints=None,\n",
              "              n_estimators=100, n_jobs=None, num_parallel_tree=None,\n",
              "              predictor=None, random_state=None, ...)</pre></div></div></div></div></div></div></div></div></div></div>"
            ]
          },
          "metadata": {},
          "execution_count": 112
        }
      ]
    },
    {
      "cell_type": "code",
      "source": [
        "xgb_cv.best_params_, xgb_cv.best_score_"
      ],
      "metadata": {
        "colab": {
          "base_uri": "https://localhost:8080/"
        },
        "id": "wZlc_epslwZx",
        "outputId": "6c783088-c404-4b59-d0cf-7a5d5638b993"
      },
      "execution_count": null,
      "outputs": [
        {
          "output_type": "execute_result",
          "data": {
            "text/plain": [
              "({'learning_rate': 0.09999999999999999, 'max_depth': 7, 'n_estimators': 100},\n",
              " 0.8586448340860693)"
            ]
          },
          "metadata": {},
          "execution_count": 113
        }
      ]
    },
    {
      "cell_type": "code",
      "source": [
        "xgb_res_df = pd.DataFrame(xgb_cv.cv_results_)\n",
        "xgb_res_df.drop(columns=[\"params\"], inplace=True)\n",
        "xgb_res_df.shape"
      ],
      "metadata": {
        "colab": {
          "base_uri": "https://localhost:8080/"
        },
        "id": "TFohAKYOD5n9",
        "outputId": "e5cbc7ce-34ca-4318-9672-0ea4f86245b8"
      },
      "execution_count": null,
      "outputs": [
        {
          "output_type": "execute_result",
          "data": {
            "text/plain": [
              "(500, 14)"
            ]
          },
          "metadata": {},
          "execution_count": 117
        }
      ]
    },
    {
      "cell_type": "code",
      "source": [
        "xgb_res_df.sort_values('rank_test_score', ascending=True)"
      ],
      "metadata": {
        "colab": {
          "base_uri": "https://localhost:8080/",
          "height": 467
        },
        "id": "WByPxPTqEdjR",
        "outputId": "6970676d-0697-4e6a-9ba0-92db43a81eb1"
      },
      "execution_count": null,
      "outputs": [
        {
          "output_type": "execute_result",
          "data": {
            "text/plain": [
              "     mean_fit_time  std_fit_time  mean_score_time  std_score_time  \\\n",
              "499       6.452583      0.095999         0.523095        0.051811   \n",
              "489       5.275660      0.046888         0.498698        0.091533   \n",
              "449       6.443834      0.039641         0.503993        0.005835   \n",
              "498       5.991061      0.018697         0.501243        0.074779   \n",
              "488       5.017816      0.178123         0.365953        0.008360   \n",
              "..             ...           ...              ...             ...   \n",
              "2         2.836603      0.461674         0.096514        0.025740   \n",
              "100       2.270525      0.223804         0.067034        0.017569   \n",
              "1         3.131795      1.573197         0.069685        0.003439   \n",
              "50        2.223885      0.196239         0.072185        0.015726   \n",
              "0         2.745874      0.152288         0.107499        0.030506   \n",
              "\n",
              "    param_learning_rate param_max_depth param_n_estimators  split0_test_score  \\\n",
              "499                 0.1               7                100           0.859970   \n",
              "489                 0.1               6                100           0.859999   \n",
              "449                0.09               7                100           0.858273   \n",
              "498                 0.1               7                 90           0.858992   \n",
              "488                 0.1               6                 90           0.859165   \n",
              "..                  ...             ...                ...                ...   \n",
              "2                  0.01               3                 30           0.741284   \n",
              "100                0.03               3                 10           0.742233   \n",
              "1                  0.01               3                 20           0.730440   \n",
              "50                 0.02               3                 10           0.729490   \n",
              "0                  0.01               3                 10           0.721436   \n",
              "\n",
              "     split1_test_score  split2_test_score  split3_test_score  mean_test_score  \\\n",
              "499           0.858561           0.854759           0.861289         0.858645   \n",
              "489           0.858561           0.854702           0.860254         0.858379   \n",
              "449           0.858676           0.855565           0.860743         0.858314   \n",
              "498           0.856863           0.853666           0.860800         0.857581   \n",
              "488           0.857813           0.853925           0.859391         0.857573   \n",
              "..                 ...                ...                ...              ...   \n",
              "2             0.744650           0.738860           0.738112         0.740727   \n",
              "100           0.743557           0.736990           0.739838         0.740655   \n",
              "1             0.734064           0.729252           0.728850         0.730651   \n",
              "50            0.731964           0.728591           0.727267         0.729328   \n",
              "0             0.725291           0.721169           0.721716         0.722403   \n",
              "\n",
              "     std_test_score  rank_test_score  \n",
              "499        0.002442                1  \n",
              "489        0.002219                2  \n",
              "449        0.001843                3  \n",
              "498        0.002655                4  \n",
              "488        0.002191                5  \n",
              "..              ...              ...  \n",
              "2          0.002550              496  \n",
              "100        0.002500              497  \n",
              "1          0.002055              498  \n",
              "50         0.001715              499  \n",
              "0          0.001678              500  \n",
              "\n",
              "[500 rows x 14 columns]"
            ],
            "text/html": [
              "\n",
              "  <div id=\"df-c652155f-afa1-453a-8eca-95a810ddc897\">\n",
              "    <div class=\"colab-df-container\">\n",
              "      <div>\n",
              "<style scoped>\n",
              "    .dataframe tbody tr th:only-of-type {\n",
              "        vertical-align: middle;\n",
              "    }\n",
              "\n",
              "    .dataframe tbody tr th {\n",
              "        vertical-align: top;\n",
              "    }\n",
              "\n",
              "    .dataframe thead th {\n",
              "        text-align: right;\n",
              "    }\n",
              "</style>\n",
              "<table border=\"1\" class=\"dataframe\">\n",
              "  <thead>\n",
              "    <tr style=\"text-align: right;\">\n",
              "      <th></th>\n",
              "      <th>mean_fit_time</th>\n",
              "      <th>std_fit_time</th>\n",
              "      <th>mean_score_time</th>\n",
              "      <th>std_score_time</th>\n",
              "      <th>param_learning_rate</th>\n",
              "      <th>param_max_depth</th>\n",
              "      <th>param_n_estimators</th>\n",
              "      <th>split0_test_score</th>\n",
              "      <th>split1_test_score</th>\n",
              "      <th>split2_test_score</th>\n",
              "      <th>split3_test_score</th>\n",
              "      <th>mean_test_score</th>\n",
              "      <th>std_test_score</th>\n",
              "      <th>rank_test_score</th>\n",
              "    </tr>\n",
              "  </thead>\n",
              "  <tbody>\n",
              "    <tr>\n",
              "      <th>499</th>\n",
              "      <td>6.452583</td>\n",
              "      <td>0.095999</td>\n",
              "      <td>0.523095</td>\n",
              "      <td>0.051811</td>\n",
              "      <td>0.1</td>\n",
              "      <td>7</td>\n",
              "      <td>100</td>\n",
              "      <td>0.859970</td>\n",
              "      <td>0.858561</td>\n",
              "      <td>0.854759</td>\n",
              "      <td>0.861289</td>\n",
              "      <td>0.858645</td>\n",
              "      <td>0.002442</td>\n",
              "      <td>1</td>\n",
              "    </tr>\n",
              "    <tr>\n",
              "      <th>489</th>\n",
              "      <td>5.275660</td>\n",
              "      <td>0.046888</td>\n",
              "      <td>0.498698</td>\n",
              "      <td>0.091533</td>\n",
              "      <td>0.1</td>\n",
              "      <td>6</td>\n",
              "      <td>100</td>\n",
              "      <td>0.859999</td>\n",
              "      <td>0.858561</td>\n",
              "      <td>0.854702</td>\n",
              "      <td>0.860254</td>\n",
              "      <td>0.858379</td>\n",
              "      <td>0.002219</td>\n",
              "      <td>2</td>\n",
              "    </tr>\n",
              "    <tr>\n",
              "      <th>449</th>\n",
              "      <td>6.443834</td>\n",
              "      <td>0.039641</td>\n",
              "      <td>0.503993</td>\n",
              "      <td>0.005835</td>\n",
              "      <td>0.09</td>\n",
              "      <td>7</td>\n",
              "      <td>100</td>\n",
              "      <td>0.858273</td>\n",
              "      <td>0.858676</td>\n",
              "      <td>0.855565</td>\n",
              "      <td>0.860743</td>\n",
              "      <td>0.858314</td>\n",
              "      <td>0.001843</td>\n",
              "      <td>3</td>\n",
              "    </tr>\n",
              "    <tr>\n",
              "      <th>498</th>\n",
              "      <td>5.991061</td>\n",
              "      <td>0.018697</td>\n",
              "      <td>0.501243</td>\n",
              "      <td>0.074779</td>\n",
              "      <td>0.1</td>\n",
              "      <td>7</td>\n",
              "      <td>90</td>\n",
              "      <td>0.858992</td>\n",
              "      <td>0.856863</td>\n",
              "      <td>0.853666</td>\n",
              "      <td>0.860800</td>\n",
              "      <td>0.857581</td>\n",
              "      <td>0.002655</td>\n",
              "      <td>4</td>\n",
              "    </tr>\n",
              "    <tr>\n",
              "      <th>488</th>\n",
              "      <td>5.017816</td>\n",
              "      <td>0.178123</td>\n",
              "      <td>0.365953</td>\n",
              "      <td>0.008360</td>\n",
              "      <td>0.1</td>\n",
              "      <td>6</td>\n",
              "      <td>90</td>\n",
              "      <td>0.859165</td>\n",
              "      <td>0.857813</td>\n",
              "      <td>0.853925</td>\n",
              "      <td>0.859391</td>\n",
              "      <td>0.857573</td>\n",
              "      <td>0.002191</td>\n",
              "      <td>5</td>\n",
              "    </tr>\n",
              "    <tr>\n",
              "      <th>...</th>\n",
              "      <td>...</td>\n",
              "      <td>...</td>\n",
              "      <td>...</td>\n",
              "      <td>...</td>\n",
              "      <td>...</td>\n",
              "      <td>...</td>\n",
              "      <td>...</td>\n",
              "      <td>...</td>\n",
              "      <td>...</td>\n",
              "      <td>...</td>\n",
              "      <td>...</td>\n",
              "      <td>...</td>\n",
              "      <td>...</td>\n",
              "      <td>...</td>\n",
              "    </tr>\n",
              "    <tr>\n",
              "      <th>2</th>\n",
              "      <td>2.836603</td>\n",
              "      <td>0.461674</td>\n",
              "      <td>0.096514</td>\n",
              "      <td>0.025740</td>\n",
              "      <td>0.01</td>\n",
              "      <td>3</td>\n",
              "      <td>30</td>\n",
              "      <td>0.741284</td>\n",
              "      <td>0.744650</td>\n",
              "      <td>0.738860</td>\n",
              "      <td>0.738112</td>\n",
              "      <td>0.740727</td>\n",
              "      <td>0.002550</td>\n",
              "      <td>496</td>\n",
              "    </tr>\n",
              "    <tr>\n",
              "      <th>100</th>\n",
              "      <td>2.270525</td>\n",
              "      <td>0.223804</td>\n",
              "      <td>0.067034</td>\n",
              "      <td>0.017569</td>\n",
              "      <td>0.03</td>\n",
              "      <td>3</td>\n",
              "      <td>10</td>\n",
              "      <td>0.742233</td>\n",
              "      <td>0.743557</td>\n",
              "      <td>0.736990</td>\n",
              "      <td>0.739838</td>\n",
              "      <td>0.740655</td>\n",
              "      <td>0.002500</td>\n",
              "      <td>497</td>\n",
              "    </tr>\n",
              "    <tr>\n",
              "      <th>1</th>\n",
              "      <td>3.131795</td>\n",
              "      <td>1.573197</td>\n",
              "      <td>0.069685</td>\n",
              "      <td>0.003439</td>\n",
              "      <td>0.01</td>\n",
              "      <td>3</td>\n",
              "      <td>20</td>\n",
              "      <td>0.730440</td>\n",
              "      <td>0.734064</td>\n",
              "      <td>0.729252</td>\n",
              "      <td>0.728850</td>\n",
              "      <td>0.730651</td>\n",
              "      <td>0.002055</td>\n",
              "      <td>498</td>\n",
              "    </tr>\n",
              "    <tr>\n",
              "      <th>50</th>\n",
              "      <td>2.223885</td>\n",
              "      <td>0.196239</td>\n",
              "      <td>0.072185</td>\n",
              "      <td>0.015726</td>\n",
              "      <td>0.02</td>\n",
              "      <td>3</td>\n",
              "      <td>10</td>\n",
              "      <td>0.729490</td>\n",
              "      <td>0.731964</td>\n",
              "      <td>0.728591</td>\n",
              "      <td>0.727267</td>\n",
              "      <td>0.729328</td>\n",
              "      <td>0.001715</td>\n",
              "      <td>499</td>\n",
              "    </tr>\n",
              "    <tr>\n",
              "      <th>0</th>\n",
              "      <td>2.745874</td>\n",
              "      <td>0.152288</td>\n",
              "      <td>0.107499</td>\n",
              "      <td>0.030506</td>\n",
              "      <td>0.01</td>\n",
              "      <td>3</td>\n",
              "      <td>10</td>\n",
              "      <td>0.721436</td>\n",
              "      <td>0.725291</td>\n",
              "      <td>0.721169</td>\n",
              "      <td>0.721716</td>\n",
              "      <td>0.722403</td>\n",
              "      <td>0.001678</td>\n",
              "      <td>500</td>\n",
              "    </tr>\n",
              "  </tbody>\n",
              "</table>\n",
              "<p>500 rows × 14 columns</p>\n",
              "</div>\n",
              "      <button class=\"colab-df-convert\" onclick=\"convertToInteractive('df-c652155f-afa1-453a-8eca-95a810ddc897')\"\n",
              "              title=\"Convert this dataframe to an interactive table.\"\n",
              "              style=\"display:none;\">\n",
              "        \n",
              "  <svg xmlns=\"http://www.w3.org/2000/svg\" height=\"24px\"viewBox=\"0 0 24 24\"\n",
              "       width=\"24px\">\n",
              "    <path d=\"M0 0h24v24H0V0z\" fill=\"none\"/>\n",
              "    <path d=\"M18.56 5.44l.94 2.06.94-2.06 2.06-.94-2.06-.94-.94-2.06-.94 2.06-2.06.94zm-11 1L8.5 8.5l.94-2.06 2.06-.94-2.06-.94L8.5 2.5l-.94 2.06-2.06.94zm10 10l.94 2.06.94-2.06 2.06-.94-2.06-.94-.94-2.06-.94 2.06-2.06.94z\"/><path d=\"M17.41 7.96l-1.37-1.37c-.4-.4-.92-.59-1.43-.59-.52 0-1.04.2-1.43.59L10.3 9.45l-7.72 7.72c-.78.78-.78 2.05 0 2.83L4 21.41c.39.39.9.59 1.41.59.51 0 1.02-.2 1.41-.59l7.78-7.78 2.81-2.81c.8-.78.8-2.07 0-2.86zM5.41 20L4 18.59l7.72-7.72 1.47 1.35L5.41 20z\"/>\n",
              "  </svg>\n",
              "      </button>\n",
              "      \n",
              "  <style>\n",
              "    .colab-df-container {\n",
              "      display:flex;\n",
              "      flex-wrap:wrap;\n",
              "      gap: 12px;\n",
              "    }\n",
              "\n",
              "    .colab-df-convert {\n",
              "      background-color: #E8F0FE;\n",
              "      border: none;\n",
              "      border-radius: 50%;\n",
              "      cursor: pointer;\n",
              "      display: none;\n",
              "      fill: #1967D2;\n",
              "      height: 32px;\n",
              "      padding: 0 0 0 0;\n",
              "      width: 32px;\n",
              "    }\n",
              "\n",
              "    .colab-df-convert:hover {\n",
              "      background-color: #E2EBFA;\n",
              "      box-shadow: 0px 1px 2px rgba(60, 64, 67, 0.3), 0px 1px 3px 1px rgba(60, 64, 67, 0.15);\n",
              "      fill: #174EA6;\n",
              "    }\n",
              "\n",
              "    [theme=dark] .colab-df-convert {\n",
              "      background-color: #3B4455;\n",
              "      fill: #D2E3FC;\n",
              "    }\n",
              "\n",
              "    [theme=dark] .colab-df-convert:hover {\n",
              "      background-color: #434B5C;\n",
              "      box-shadow: 0px 1px 3px 1px rgba(0, 0, 0, 0.15);\n",
              "      filter: drop-shadow(0px 1px 2px rgba(0, 0, 0, 0.3));\n",
              "      fill: #FFFFFF;\n",
              "    }\n",
              "  </style>\n",
              "\n",
              "      <script>\n",
              "        const buttonEl =\n",
              "          document.querySelector('#df-c652155f-afa1-453a-8eca-95a810ddc897 button.colab-df-convert');\n",
              "        buttonEl.style.display =\n",
              "          google.colab.kernel.accessAllowed ? 'block' : 'none';\n",
              "\n",
              "        async function convertToInteractive(key) {\n",
              "          const element = document.querySelector('#df-c652155f-afa1-453a-8eca-95a810ddc897');\n",
              "          const dataTable =\n",
              "            await google.colab.kernel.invokeFunction('convertToInteractive',\n",
              "                                                     [key], {});\n",
              "          if (!dataTable) return;\n",
              "\n",
              "          const docLinkHtml = 'Like what you see? Visit the ' +\n",
              "            '<a target=\"_blank\" href=https://colab.research.google.com/notebooks/data_table.ipynb>data table notebook</a>'\n",
              "            + ' to learn more about interactive tables.';\n",
              "          element.innerHTML = '';\n",
              "          dataTable['output_type'] = 'display_data';\n",
              "          await google.colab.output.renderOutput(dataTable, element);\n",
              "          const docLink = document.createElement('div');\n",
              "          docLink.innerHTML = docLinkHtml;\n",
              "          element.appendChild(docLink);\n",
              "        }\n",
              "      </script>\n",
              "    </div>\n",
              "  </div>\n",
              "  "
            ]
          },
          "metadata": {},
          "execution_count": 130
        }
      ]
    },
    {
      "cell_type": "code",
      "source": [
        "sns.lineplot(x='param_n_estimators', y='mean_test_score', hue='param_max_depth', data=xgb_res_df)"
      ],
      "metadata": {
        "colab": {
          "base_uri": "https://localhost:8080/",
          "height": 467
        },
        "id": "pVnTO4EMEbfZ",
        "outputId": "72618047-f2f7-4d8d-a466-11aa138b0f16"
      },
      "execution_count": null,
      "outputs": [
        {
          "output_type": "execute_result",
          "data": {
            "text/plain": [
              "<Axes: xlabel='param_n_estimators', ylabel='mean_test_score'>"
            ]
          },
          "metadata": {},
          "execution_count": 119
        },
        {
          "output_type": "display_data",
          "data": {
            "text/plain": [
              "<Figure size 640x480 with 1 Axes>"
            ],
            "image/png": "[encoded data removed]"
          },
          "metadata": {}
        }
      ]
    },
    {
      "cell_type": "code",
      "source": [
        "best_xgb = xgb_cv.best_estimator_"
      ],
      "metadata": {
        "id": "1ee44vNombFm"
      },
      "execution_count": null,
      "outputs": []
    },
    {
      "cell_type": "code",
      "source": [
        "y_pred = best_xgb.predict(X_test)\n",
        "\n",
        "metrics.accuracy_score(y_test, y_pred) # значенния accuracy"
      ],
      "metadata": {
        "colab": {
          "base_uri": "https://localhost:8080/"
        },
        "id": "kU4v2AleFrjZ",
        "outputId": "090ba05c-c704-4b30-e1a7-82e547bc2934"
      },
      "execution_count": null,
      "outputs": [
        {
          "output_type": "execute_result",
          "data": {
            "text/plain": [
              "0.8580921218223005"
            ]
          },
          "metadata": {},
          "execution_count": 122
        }
      ]
    },
    {
      "cell_type": "code",
      "source": [
        "train_score = best_xgb.score(X_train, y_train)\n",
        "test_score = best_xgb.score(X_test, y_test)\n",
        "\n",
        "train_score, test_score"
      ],
      "metadata": {
        "colab": {
          "base_uri": "https://localhost:8080/"
        },
        "id": "OrIQfIXQFrgG",
        "outputId": "93005216-45d8-4b10-f2f1-8062d56f85aa"
      },
      "execution_count": null,
      "outputs": [
        {
          "output_type": "execute_result",
          "data": {
            "text/plain": [
              "(0.9193334963395515, 0.8580921218223005)"
            ]
          },
          "metadata": {},
          "execution_count": 123
        }
      ]
    },
    {
      "cell_type": "code",
      "source": [
        "y_pred = best_xgb.predict(X_test)\n",
        "\n",
        "x_names = ['Predicted: 1', 'Predicted: 2', 'Predicted: 3', 'Predicted: 4']\n",
        "y_names = ['Real: 1', 'Real: 2', 'Real: 3', 'Real: 4']\n",
        "\n",
        "arr_errors = (metrics.confusion_matrix(y_test, y_pred) / y_test.shape[0])\n",
        "sns.heatmap(arr_errors, cmap='winter', annot=True, fmt=\".2%\", cbar=False, xticklabels=x_names, yticklabels=y_names)"
      ],
      "metadata": {
        "colab": {
          "base_uri": "https://localhost:8080/",
          "height": 447
        },
        "id": "AOb7SYGxD_tE",
        "outputId": "1027ba60-3705-4a58-8b7e-816831953c95"
      },
      "execution_count": null,
      "outputs": [
        {
          "output_type": "execute_result",
          "data": {
            "text/plain": [
              "<Axes: >"
            ]
          },
          "metadata": {},
          "execution_count": 15
        },
        {
          "output_type": "display_data",
          "data": {
            "text/plain": [
              "<Figure size 640x480 with 1 Axes>"
            ],
            "image/png": "[encoded data removed]"
          },
          "metadata": {}
        }
      ]
    },
    {
      "cell_type": "code",
      "source": [
        "import pickle\n",
        "\n",
        "with open('best_XGBmodel.pkl', 'wb') as f: # сохранили лучшую модель xgboost\n",
        "    pickle.dump(best_xgb, f)"
      ],
      "metadata": {
        "id": "8wvFGkiMGiZ8"
      },
      "execution_count": null,
      "outputs": []
    },
    {
      "cell_type": "markdown",
      "source": [
        "### Load model"
      ],
      "metadata": {
        "id": "LcJZm0W0D0li"
      }
    },
    {
      "cell_type": "code",
      "source": [
        "import pickle\n",
        "\n",
        "with open('best_XGBmodel.pkl', 'rb') as f:\n",
        "    best_xgb = pickle.load(f)\n",
        "\n",
        "best_xgb"
      ],
      "metadata": {
        "colab": {
          "base_uri": "https://localhost:8080/",
          "height": 248
        },
        "id": "CfvTaz8ID-Il",
        "outputId": "64150e34-5142-472a-e963-ec5625879d87"
      },
      "execution_count": null,
      "outputs": [
        {
          "output_type": "execute_result",
          "data": {
            "text/plain": [
              "XGBClassifier(base_score=None, booster=None, callbacks=None,\n",
              "              colsample_bylevel=None, colsample_bynode=None,\n",
              "              colsample_bytree=None, early_stopping_rounds=None,\n",
              "              enable_categorical=False, eval_metric=None, feature_types=None,\n",
              "              gamma=None, gpu_id=None, grow_policy=None, importance_type=None,\n",
              "              interaction_constraints=None, learning_rate=0.09999999999999999,\n",
              "              max_bin=None, max_cat_threshold=None, max_cat_to_onehot=None,\n",
              "              max_delta_step=None, max_depth=7, max_leaves=None,\n",
              "              min_child_weight=None, missing=nan, monotone_constraints=None,\n",
              "              n_estimators=100, n_jobs=None, num_parallel_tree=None,\n",
              "              objective='multi:softprob', predictor=None, ...)"
            ],
            "text/html": [
              "<style>#sk-container-id-1 {color: black;background-color: white;}#sk-container-id-1 pre{padding: 0;}#sk-container-id-1 div.sk-toggleable {background-color: white;}#sk-container-id-1 label.sk-toggleable__label {cursor: pointer;display: block;width: 100%;margin-bottom: 0;padding: 0.3em;box-sizing: border-box;text-align: center;}#sk-container-id-1 label.sk-toggleable__label-arrow:before {content: \"▸\";float: left;margin-right: 0.25em;color: #696969;}#sk-container-id-1 label.sk-toggleable__label-arrow:hover:before {color: black;}#sk-container-id-1 div.sk-estimator:hover label.sk-toggleable__label-arrow:before {color: black;}#sk-container-id-1 div.sk-toggleable__content {max-height: 0;max-width: 0;overflow: hidden;text-align: left;background-color: #f0f8ff;}#sk-container-id-1 div.sk-toggleable__content pre {margin: 0.2em;color: black;border-radius: 0.25em;background-color: #f0f8ff;}#sk-container-id-1 input.sk-toggleable__control:checked~div.sk-toggleable__content {max-height: 200px;max-width: 100%;overflow: auto;}#sk-container-id-1 input.sk-toggleable__control:checked~label.sk-toggleable__label-arrow:before {content: \"▾\";}#sk-container-id-1 div.sk-estimator input.sk-toggleable__control:checked~label.sk-toggleable__label {background-color: #d4ebff;}#sk-container-id-1 div.sk-label input.sk-toggleable__control:checked~label.sk-toggleable__label {background-color: #d4ebff;}#sk-container-id-1 input.sk-hidden--visually {border: 0;clip: rect(1px 1px 1px 1px);clip: rect(1px, 1px, 1px, 1px);height: 1px;margin: -1px;overflow: hidden;padding: 0;position: absolute;width: 1px;}#sk-container-id-1 div.sk-estimator {font-family: monospace;background-color: #f0f8ff;border: 1px dotted black;border-radius: 0.25em;box-sizing: border-box;margin-bottom: 0.5em;}#sk-container-id-1 div.sk-estimator:hover {background-color: #d4ebff;}#sk-container-id-1 div.sk-parallel-item::after {content: \"\";width: 100%;border-bottom: 1px solid gray;flex-grow: 1;}#sk-container-id-1 div.sk-label:hover label.sk-toggleable__label {background-color: #d4ebff;}#sk-container-id-1 div.sk-serial::before {content: \"\";position: absolute;border-left: 1px solid gray;box-sizing: border-box;top: 0;bottom: 0;left: 50%;z-index: 0;}#sk-container-id-1 div.sk-serial {display: flex;flex-direction: column;align-items: center;background-color: white;padding-right: 0.2em;padding-left: 0.2em;position: relative;}#sk-container-id-1 div.sk-item {position: relative;z-index: 1;}#sk-container-id-1 div.sk-parallel {display: flex;align-items: stretch;justify-content: center;background-color: white;position: relative;}#sk-container-id-1 div.sk-item::before, #sk-container-id-1 div.sk-parallel-item::before {content: \"\";position: absolute;border-left: 1px solid gray;box-sizing: border-box;top: 0;bottom: 0;left: 50%;z-index: -1;}#sk-container-id-1 div.sk-parallel-item {display: flex;flex-direction: column;z-index: 1;position: relative;background-color: white;}#sk-container-id-1 div.sk-parallel-item:first-child::after {align-self: flex-end;width: 50%;}#sk-container-id-1 div.sk-parallel-item:last-child::after {align-self: flex-start;width: 50%;}#sk-container-id-1 div.sk-parallel-item:only-child::after {width: 0;}#sk-container-id-1 div.sk-dashed-wrapped {border: 1px dashed gray;margin: 0 0.4em 0.5em 0.4em;box-sizing: border-box;padding-bottom: 0.4em;background-color: white;}#sk-container-id-1 div.sk-label label {font-family: monospace;font-weight: bold;display: inline-block;line-height: 1.2em;}#sk-container-id-1 div.sk-label-container {text-align: center;}#sk-container-id-1 div.sk-container {/* jupyter's `normalize.less` sets `[hidden] { display: none; }` but bootstrap.min.css set `[hidden] { display: none !important; }` so we also need the `!important` here to be able to override the default hidden behavior on the sphinx rendered scikit-learn.org. See: https://github.com/scikit-learn/scikit-learn/issues/21755 */display: inline-block !important;position: relative;}#sk-container-id-1 div.sk-text-repr-fallback {display: none;}</style><div id=\"sk-container-id-1\" class=\"sk-top-container\"><div class=\"sk-text-repr-fallback\"><pre>XGBClassifier(base_score=None, booster=None, callbacks=None,\n",
              "              colsample_bylevel=None, colsample_bynode=None,\n",
              "              colsample_bytree=None, early_stopping_rounds=None,\n",
              "              enable_categorical=False, eval_metric=None, feature_types=None,\n",
              "              gamma=None, gpu_id=None, grow_policy=None, importance_type=None,\n",
              "              interaction_constraints=None, learning_rate=0.09999999999999999,\n",
              "              max_bin=None, max_cat_threshold=None, max_cat_to_onehot=None,\n",
              "              max_delta_step=None, max_depth=7, max_leaves=None,\n",
              "              min_child_weight=None, missing=nan, monotone_constraints=None,\n",
              "              n_estimators=100, n_jobs=None, num_parallel_tree=None,\n",
              "              objective=&#x27;multi:softprob&#x27;, predictor=None, ...)</pre><b>In a Jupyter environment, please rerun this cell to show the HTML representation or trust the notebook. <br />On GitHub, the HTML representation is unable to render, please try loading this page with nbviewer.org.</b></div><div class=\"sk-container\" hidden><div class=\"sk-item\"><div class=\"sk-estimator sk-toggleable\"><input class=\"sk-toggleable__control sk-hidden--visually\" id=\"sk-estimator-id-1\" type=\"checkbox\" checked><label for=\"sk-estimator-id-1\" class=\"sk-toggleable__label sk-toggleable__label-arrow\">XGBClassifier</label><div class=\"sk-toggleable__content\"><pre>XGBClassifier(base_score=None, booster=None, callbacks=None,\n",
              "              colsample_bylevel=None, colsample_bynode=None,\n",
              "              colsample_bytree=None, early_stopping_rounds=None,\n",
              "              enable_categorical=False, eval_metric=None, feature_types=None,\n",
              "              gamma=None, gpu_id=None, grow_policy=None, importance_type=None,\n",
              "              interaction_constraints=None, learning_rate=0.09999999999999999,\n",
              "              max_bin=None, max_cat_threshold=None, max_cat_to_onehot=None,\n",
              "              max_delta_step=None, max_depth=7, max_leaves=None,\n",
              "              min_child_weight=None, missing=nan, monotone_constraints=None,\n",
              "              n_estimators=100, n_jobs=None, num_parallel_tree=None,\n",
              "              objective=&#x27;multi:softprob&#x27;, predictor=None, ...)</pre></div></div></div></div></div>"
            ]
          },
          "metadata": {},
          "execution_count": 14
        }
      ]
    },
    {
      "cell_type": "markdown",
      "source": [
        "## CatBoost"
      ],
      "metadata": {
        "id": "-k-c5MbTZcXh"
      }
    },
    {
      "cell_type": "code",
      "source": [
        "%%capture\n",
        "! pip install catboost"
      ],
      "metadata": {
        "id": "a8_lZl9YZnPf"
      },
      "execution_count": null,
      "outputs": []
    },
    {
      "cell_type": "code",
      "source": [
        "from catboost import CatBoostClassifier, Pool"
      ],
      "metadata": {
        "id": "rjbCKjH5MSYh"
      },
      "execution_count": null,
      "outputs": []
    },
    {
      "cell_type": "code",
      "source": [
        "cat_clf = CatBoostClassifier(iterations=30, learning_rate=0.1, max_depth=8, loss_function='MultiClass', task_type='GPU')"
      ],
      "metadata": {
        "id": "sX-XACW0asgM"
      },
      "execution_count": null,
      "outputs": []
    },
    {
      "cell_type": "code",
      "source": [
        "cat_clf.fit(X_train, y_train)"
      ],
      "metadata": {
        "colab": {
          "base_uri": "https://localhost:8080/"
        },
        "id": "HPcJiCJUSAOW",
        "outputId": "c6aa7b18-d30e-428d-98e5-9b025702aed7"
      },
      "execution_count": null,
      "outputs": [
        {
          "output_type": "stream",
          "name": "stdout",
          "text": [
            "0:\tlearn: 1.2511764\ttotal: 35.3ms\tremaining: 1.02s\n",
            "1:\tlearn: 1.1458343\ttotal: 67.4ms\tremaining: 944ms\n",
            "2:\tlearn: 1.0598956\ttotal: 100ms\tremaining: 904ms\n",
            "3:\tlearn: 0.9872594\ttotal: 133ms\tremaining: 864ms\n",
            "4:\tlearn: 0.9263108\ttotal: 166ms\tremaining: 828ms\n",
            "5:\tlearn: 0.8735542\ttotal: 208ms\tremaining: 830ms\n",
            "6:\tlearn: 0.8275660\ttotal: 243ms\tremaining: 798ms\n",
            "7:\tlearn: 0.7867348\ttotal: 276ms\tremaining: 759ms\n",
            "8:\tlearn: 0.7508536\ttotal: 300ms\tremaining: 700ms\n",
            "9:\tlearn: 0.7186702\ttotal: 320ms\tremaining: 641ms\n",
            "10:\tlearn: 0.6894961\ttotal: 340ms\tremaining: 587ms\n",
            "11:\tlearn: 0.6633861\ttotal: 360ms\tremaining: 541ms\n",
            "12:\tlearn: 0.6395056\ttotal: 386ms\tremaining: 505ms\n",
            "13:\tlearn: 0.6184910\ttotal: 414ms\tremaining: 473ms\n",
            "14:\tlearn: 0.5990545\ttotal: 435ms\tremaining: 435ms\n",
            "15:\tlearn: 0.5804780\ttotal: 459ms\tremaining: 401ms\n",
            "16:\tlearn: 0.5639409\ttotal: 478ms\tremaining: 365ms\n",
            "17:\tlearn: 0.5488715\ttotal: 494ms\tremaining: 330ms\n",
            "18:\tlearn: 0.5347186\ttotal: 511ms\tremaining: 296ms\n",
            "19:\tlearn: 0.5221155\ttotal: 527ms\tremaining: 264ms\n",
            "20:\tlearn: 0.5105079\ttotal: 544ms\tremaining: 233ms\n",
            "21:\tlearn: 0.4997922\ttotal: 567ms\tremaining: 206ms\n",
            "22:\tlearn: 0.4898354\ttotal: 584ms\tremaining: 178ms\n",
            "23:\tlearn: 0.4804466\ttotal: 600ms\tremaining: 150ms\n",
            "24:\tlearn: 0.4719326\ttotal: 618ms\tremaining: 124ms\n",
            "25:\tlearn: 0.4636008\ttotal: 635ms\tremaining: 97.6ms\n",
            "26:\tlearn: 0.4556659\ttotal: 650ms\tremaining: 72.2ms\n",
            "27:\tlearn: 0.4484305\ttotal: 670ms\tremaining: 47.9ms\n",
            "28:\tlearn: 0.4421392\ttotal: 687ms\tremaining: 23.7ms\n",
            "29:\tlearn: 0.4358569\ttotal: 703ms\tremaining: 0us\n"
          ]
        },
        {
          "output_type": "execute_result",
          "data": {
            "text/plain": [
              "<catboost.core.CatBoostClassifier at 0x7dc1d275b040>"
            ]
          },
          "metadata": {},
          "execution_count": 28
        }
      ]
    },
    {
      "cell_type": "code",
      "source": [
        "train_score = cat_clf.score(X_train, y_train)\n",
        "test_score = cat_clf.score(X_test, y_test)\n",
        "\n",
        "train_score, test_score"
      ],
      "metadata": {
        "colab": {
          "base_uri": "https://localhost:8080/"
        },
        "id": "kGS9ZHqjTXDY",
        "outputId": "45c09854-b350-42b3-b5d2-1ea54077ac8f"
      },
      "execution_count": null,
      "outputs": [
        {
          "output_type": "execute_result",
          "data": {
            "text/plain": [
              "(0.8487637896069153, 0.8419162681433006)"
            ]
          },
          "metadata": {},
          "execution_count": 29
        }
      ]
    },
    {
      "cell_type": "code",
      "source": [
        "y_pred = cat_clf.predict(X_test)\n",
        "\n",
        "x_names = ['Predicted: 1', 'Predicted: 2', 'Predicted: 3', 'Predicted: 4']\n",
        "y_names = ['Real: 1', 'Real: 2', 'Real: 3', 'Real: 4']\n",
        "\n",
        "arr_errors = (metrics.confusion_matrix(y_test, y_pred) / y_test.shape[0])\n",
        "sns.heatmap(arr_errors, cmap='winter', annot=True, fmt=\".2%\", cbar=False, xticklabels=x_names, yticklabels=y_names)"
      ],
      "metadata": {
        "colab": {
          "base_uri": "https://localhost:8080/",
          "height": 447
        },
        "id": "B8biB8NYTIUG",
        "outputId": "af05a0aa-b387-4b22-e730-d73a5c41cc07"
      },
      "execution_count": null,
      "outputs": [
        {
          "output_type": "execute_result",
          "data": {
            "text/plain": [
              "<Axes: >"
            ]
          },
          "metadata": {},
          "execution_count": 30
        },
        {
          "output_type": "display_data",
          "data": {
            "text/plain": [
              "<Figure size 640x480 with 1 Axes>"
            ],
            "image/png": "[encoded data removed]"
          },
          "metadata": {}
        }
      ]
    },
    {
      "cell_type": "markdown",
      "source": [
        "## LigthGBM"
      ],
      "metadata": {
        "id": "wZAfKqEOpH_g"
      }
    },
    {
      "cell_type": "code",
      "source": [],
      "metadata": {
        "id": "GpspRKOvpHu6"
      },
      "execution_count": null,
      "outputs": []
    }
  ]
}