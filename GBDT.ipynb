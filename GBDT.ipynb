{
  "nbformat": 4,
  "nbformat_minor": 0,
  "metadata": {
    "colab": {
      "provenance": [],
      "authorship_tag": "ABX9TyMbxiySn1WAvNersiCG6rIK",
      "include_colab_link": true
    },
    "kernelspec": {
      "name": "python3",
      "display_name": "Python 3"
    },
    "language_info": {
      "name": "python"
    }
  },
  "cells": [
    {
      "cell_type": "markdown",
      "metadata": {
        "id": "view-in-github",
        "colab_type": "text"
      },
      "source": [
        "<a href=\"https://colab.research.google.com/github/EgorSolovei/ML-in-nuclear-physics/blob/main/GBDT.ipynb\" target=\"_parent\"><img src=\"https://colab.research.google.com/assets/colab-badge.svg\" alt=\"Open In Colab\"/></a>"
      ]
    },
    {
      "cell_type": "code",
      "execution_count": null,
      "metadata": {
        "id": "7ZNCYLC9xVB7"
      },
      "outputs": [],
      "source": [
        "import pandas as pd\n",
        "import numpy as np\n",
        "import seaborn as sns\n",
        "import sklearn.metrics as metrics"
      ]
    },
    {
      "cell_type": "code",
      "source": [
        "data = pd.read_csv('data.csv')\n",
        "data.drop(columns='Unnamed: 0', inplace=True)\n",
        "data = data.rename(columns={\"class\": \"class_param\"})\n",
        "data.head()"
      ],
      "metadata": {
        "id": "sXFXDuUnWdsh",
        "colab": {
          "base_uri": "https://localhost:8080/",
          "height": 299
        },
        "outputId": "36336d1d-0a62-42ea-c718-9b5755a7df15"
      },
      "execution_count": null,
      "outputs": [
        {
          "output_type": "execute_result",
          "data": {
            "text/plain": [
              "   class_param  sns_1_sct_1_plus  sns_1_sct_1_minus  sns_1_sct_2_plus  \\\n",
              "0          2.0          1.070476           1.134191          1.061568   \n",
              "1          4.0          1.062580           0.000000          0.000000   \n",
              "2          1.0          1.067535           1.051729          1.054481   \n",
              "3          1.0          1.088980           1.055896          1.061196   \n",
              "4          2.0          1.081317           1.061869          1.053991   \n",
              "\n",
              "   sns_1_sct_2_minus  sns_1_sct_3_plus  sns_1_sct_3_minus  sns_1_sct_4_plus  \\\n",
              "0           1.063757          1.056732           1.071109          1.063262   \n",
              "1           0.000000          1.610508           1.232604          0.000000   \n",
              "2           1.057698          1.055646           1.062432          1.071453   \n",
              "3           1.138536          1.091437           1.074876          1.061321   \n",
              "4           1.112041          1.073001           1.089580          1.092859   \n",
              "\n",
              "   sns_1_sct_4_minus  sns_1_sct_5_plus  ...  sns_3_sct_28_plus  \\\n",
              "0           1.074886          1.249140  ...                0.0   \n",
              "1           1.184101          1.320536  ...                0.0   \n",
              "2           1.064985          1.065528  ...                0.0   \n",
              "3           1.082646          1.095676  ...                0.0   \n",
              "4           1.097151          1.048954  ...                0.0   \n",
              "\n",
              "   sns_3_sct_28_minus  sns_3_sct_29_plus  sns_3_sct_29_minus  \\\n",
              "0                 0.0                0.0                 0.0   \n",
              "1                 0.0                0.0                 0.0   \n",
              "2                 0.0                0.0                 0.0   \n",
              "3                 0.0                0.0                 0.0   \n",
              "4                 0.0                0.0                 0.0   \n",
              "\n",
              "   sns_3_sct_30_plus  sns_3_sct_30_minus  sns_3_sct_31_plus  \\\n",
              "0                0.0                 0.0                0.0   \n",
              "1                0.0                 0.0                0.0   \n",
              "2                0.0                 0.0                0.0   \n",
              "3                0.0                 0.0                0.0   \n",
              "4                0.0                 0.0                0.0   \n",
              "\n",
              "   sns_3_sct_31_minus  sns_3_sct_32_plus  sns_3_sct_32_minus  \n",
              "0                 0.0                0.0                 0.0  \n",
              "1                 0.0                0.0                 0.0  \n",
              "2                 0.0                0.0                 0.0  \n",
              "3                 0.0                0.0                 0.0  \n",
              "4                 0.0                0.0                 0.0  \n",
              "\n",
              "[5 rows x 193 columns]"
            ],
            "text/html": [
              "\n",
              "  <div id=\"df-d687cf9b-997c-4de3-991e-086ead39fb01\">\n",
              "    <div class=\"colab-df-container\">\n",
              "      <div>\n",
              "<style scoped>\n",
              "    .dataframe tbody tr th:only-of-type {\n",
              "        vertical-align: middle;\n",
              "    }\n",
              "\n",
              "    .dataframe tbody tr th {\n",
              "        vertical-align: top;\n",
              "    }\n",
              "\n",
              "    .dataframe thead th {\n",
              "        text-align: right;\n",
              "    }\n",
              "</style>\n",
              "<table border=\"1\" class=\"dataframe\">\n",
              "  <thead>\n",
              "    <tr style=\"text-align: right;\">\n",
              "      <th></th>\n",
              "      <th>class_param</th>\n",
              "      <th>sns_1_sct_1_plus</th>\n",
              "      <th>sns_1_sct_1_minus</th>\n",
              "      <th>sns_1_sct_2_plus</th>\n",
              "      <th>sns_1_sct_2_minus</th>\n",
              "      <th>sns_1_sct_3_plus</th>\n",
              "      <th>sns_1_sct_3_minus</th>\n",
              "      <th>sns_1_sct_4_plus</th>\n",
              "      <th>sns_1_sct_4_minus</th>\n",
              "      <th>sns_1_sct_5_plus</th>\n",
              "      <th>...</th>\n",
              "      <th>sns_3_sct_28_plus</th>\n",
              "      <th>sns_3_sct_28_minus</th>\n",
              "      <th>sns_3_sct_29_plus</th>\n",
              "      <th>sns_3_sct_29_minus</th>\n",
              "      <th>sns_3_sct_30_plus</th>\n",
              "      <th>sns_3_sct_30_minus</th>\n",
              "      <th>sns_3_sct_31_plus</th>\n",
              "      <th>sns_3_sct_31_minus</th>\n",
              "      <th>sns_3_sct_32_plus</th>\n",
              "      <th>sns_3_sct_32_minus</th>\n",
              "    </tr>\n",
              "  </thead>\n",
              "  <tbody>\n",
              "    <tr>\n",
              "      <th>0</th>\n",
              "      <td>2.0</td>\n",
              "      <td>1.070476</td>\n",
              "      <td>1.134191</td>\n",
              "      <td>1.061568</td>\n",
              "      <td>1.063757</td>\n",
              "      <td>1.056732</td>\n",
              "      <td>1.071109</td>\n",
              "      <td>1.063262</td>\n",
              "      <td>1.074886</td>\n",
              "      <td>1.249140</td>\n",
              "      <td>...</td>\n",
              "      <td>0.0</td>\n",
              "      <td>0.0</td>\n",
              "      <td>0.0</td>\n",
              "      <td>0.0</td>\n",
              "      <td>0.0</td>\n",
              "      <td>0.0</td>\n",
              "      <td>0.0</td>\n",
              "      <td>0.0</td>\n",
              "      <td>0.0</td>\n",
              "      <td>0.0</td>\n",
              "    </tr>\n",
              "    <tr>\n",
              "      <th>1</th>\n",
              "      <td>4.0</td>\n",
              "      <td>1.062580</td>\n",
              "      <td>0.000000</td>\n",
              "      <td>0.000000</td>\n",
              "      <td>0.000000</td>\n",
              "      <td>1.610508</td>\n",
              "      <td>1.232604</td>\n",
              "      <td>0.000000</td>\n",
              "      <td>1.184101</td>\n",
              "      <td>1.320536</td>\n",
              "      <td>...</td>\n",
              "      <td>0.0</td>\n",
              "      <td>0.0</td>\n",
              "      <td>0.0</td>\n",
              "      <td>0.0</td>\n",
              "      <td>0.0</td>\n",
              "      <td>0.0</td>\n",
              "      <td>0.0</td>\n",
              "      <td>0.0</td>\n",
              "      <td>0.0</td>\n",
              "      <td>0.0</td>\n",
              "    </tr>\n",
              "    <tr>\n",
              "      <th>2</th>\n",
              "      <td>1.0</td>\n",
              "      <td>1.067535</td>\n",
              "      <td>1.051729</td>\n",
              "      <td>1.054481</td>\n",
              "      <td>1.057698</td>\n",
              "      <td>1.055646</td>\n",
              "      <td>1.062432</td>\n",
              "      <td>1.071453</td>\n",
              "      <td>1.064985</td>\n",
              "      <td>1.065528</td>\n",
              "      <td>...</td>\n",
              "      <td>0.0</td>\n",
              "      <td>0.0</td>\n",
              "      <td>0.0</td>\n",
              "      <td>0.0</td>\n",
              "      <td>0.0</td>\n",
              "      <td>0.0</td>\n",
              "      <td>0.0</td>\n",
              "      <td>0.0</td>\n",
              "      <td>0.0</td>\n",
              "      <td>0.0</td>\n",
              "    </tr>\n",
              "    <tr>\n",
              "      <th>3</th>\n",
              "      <td>1.0</td>\n",
              "      <td>1.088980</td>\n",
              "      <td>1.055896</td>\n",
              "      <td>1.061196</td>\n",
              "      <td>1.138536</td>\n",
              "      <td>1.091437</td>\n",
              "      <td>1.074876</td>\n",
              "      <td>1.061321</td>\n",
              "      <td>1.082646</td>\n",
              "      <td>1.095676</td>\n",
              "      <td>...</td>\n",
              "      <td>0.0</td>\n",
              "      <td>0.0</td>\n",
              "      <td>0.0</td>\n",
              "      <td>0.0</td>\n",
              "      <td>0.0</td>\n",
              "      <td>0.0</td>\n",
              "      <td>0.0</td>\n",
              "      <td>0.0</td>\n",
              "      <td>0.0</td>\n",
              "      <td>0.0</td>\n",
              "    </tr>\n",
              "    <tr>\n",
              "      <th>4</th>\n",
              "      <td>2.0</td>\n",
              "      <td>1.081317</td>\n",
              "      <td>1.061869</td>\n",
              "      <td>1.053991</td>\n",
              "      <td>1.112041</td>\n",
              "      <td>1.073001</td>\n",
              "      <td>1.089580</td>\n",
              "      <td>1.092859</td>\n",
              "      <td>1.097151</td>\n",
              "      <td>1.048954</td>\n",
              "      <td>...</td>\n",
              "      <td>0.0</td>\n",
              "      <td>0.0</td>\n",
              "      <td>0.0</td>\n",
              "      <td>0.0</td>\n",
              "      <td>0.0</td>\n",
              "      <td>0.0</td>\n",
              "      <td>0.0</td>\n",
              "      <td>0.0</td>\n",
              "      <td>0.0</td>\n",
              "      <td>0.0</td>\n",
              "    </tr>\n",
              "  </tbody>\n",
              "</table>\n",
              "<p>5 rows × 193 columns</p>\n",
              "</div>\n",
              "      <button class=\"colab-df-convert\" onclick=\"convertToInteractive('df-d687cf9b-997c-4de3-991e-086ead39fb01')\"\n",
              "              title=\"Convert this dataframe to an interactive table.\"\n",
              "              style=\"display:none;\">\n",
              "        \n",
              "  <svg xmlns=\"http://www.w3.org/2000/svg\" height=\"24px\"viewBox=\"0 0 24 24\"\n",
              "       width=\"24px\">\n",
              "    <path d=\"M0 0h24v24H0V0z\" fill=\"none\"/>\n",
              "    <path d=\"M18.56 5.44l.94 2.06.94-2.06 2.06-.94-2.06-.94-.94-2.06-.94 2.06-2.06.94zm-11 1L8.5 8.5l.94-2.06 2.06-.94-2.06-.94L8.5 2.5l-.94 2.06-2.06.94zm10 10l.94 2.06.94-2.06 2.06-.94-2.06-.94-.94-2.06-.94 2.06-2.06.94z\"/><path d=\"M17.41 7.96l-1.37-1.37c-.4-.4-.92-.59-1.43-.59-.52 0-1.04.2-1.43.59L10.3 9.45l-7.72 7.72c-.78.78-.78 2.05 0 2.83L4 21.41c.39.39.9.59 1.41.59.51 0 1.02-.2 1.41-.59l7.78-7.78 2.81-2.81c.8-.78.8-2.07 0-2.86zM5.41 20L4 18.59l7.72-7.72 1.47 1.35L5.41 20z\"/>\n",
              "  </svg>\n",
              "      </button>\n",
              "      \n",
              "  <style>\n",
              "    .colab-df-container {\n",
              "      display:flex;\n",
              "      flex-wrap:wrap;\n",
              "      gap: 12px;\n",
              "    }\n",
              "\n",
              "    .colab-df-convert {\n",
              "      background-color: #E8F0FE;\n",
              "      border: none;\n",
              "      border-radius: 50%;\n",
              "      cursor: pointer;\n",
              "      display: none;\n",
              "      fill: #1967D2;\n",
              "      height: 32px;\n",
              "      padding: 0 0 0 0;\n",
              "      width: 32px;\n",
              "    }\n",
              "\n",
              "    .colab-df-convert:hover {\n",
              "      background-color: #E2EBFA;\n",
              "      box-shadow: 0px 1px 2px rgba(60, 64, 67, 0.3), 0px 1px 3px 1px rgba(60, 64, 67, 0.15);\n",
              "      fill: #174EA6;\n",
              "    }\n",
              "\n",
              "    [theme=dark] .colab-df-convert {\n",
              "      background-color: #3B4455;\n",
              "      fill: #D2E3FC;\n",
              "    }\n",
              "\n",
              "    [theme=dark] .colab-df-convert:hover {\n",
              "      background-color: #434B5C;\n",
              "      box-shadow: 0px 1px 3px 1px rgba(0, 0, 0, 0.15);\n",
              "      filter: drop-shadow(0px 1px 2px rgba(0, 0, 0, 0.3));\n",
              "      fill: #FFFFFF;\n",
              "    }\n",
              "  </style>\n",
              "\n",
              "      <script>\n",
              "        const buttonEl =\n",
              "          document.querySelector('#df-d687cf9b-997c-4de3-991e-086ead39fb01 button.colab-df-convert');\n",
              "        buttonEl.style.display =\n",
              "          google.colab.kernel.accessAllowed ? 'block' : 'none';\n",
              "\n",
              "        async function convertToInteractive(key) {\n",
              "          const element = document.querySelector('#df-d687cf9b-997c-4de3-991e-086ead39fb01');\n",
              "          const dataTable =\n",
              "            await google.colab.kernel.invokeFunction('convertToInteractive',\n",
              "                                                     [key], {});\n",
              "          if (!dataTable) return;\n",
              "\n",
              "          const docLinkHtml = 'Like what you see? Visit the ' +\n",
              "            '<a target=\"_blank\" href=https://colab.research.google.com/notebooks/data_table.ipynb>data table notebook</a>'\n",
              "            + ' to learn more about interactive tables.';\n",
              "          element.innerHTML = '';\n",
              "          dataTable['output_type'] = 'display_data';\n",
              "          await google.colab.output.renderOutput(dataTable, element);\n",
              "          const docLink = document.createElement('div');\n",
              "          docLink.innerHTML = docLinkHtml;\n",
              "          element.appendChild(docLink);\n",
              "        }\n",
              "      </script>\n",
              "    </div>\n",
              "  </div>\n",
              "  "
            ]
          },
          "metadata": {},
          "execution_count": 2
        }
      ]
    },
    {
      "cell_type": "code",
      "source": [
        " # где-то плохая обработка, потому что классов только 4. Уберём плохие\n",
        "data['class_param'].unique()"
      ],
      "metadata": {
        "colab": {
          "base_uri": "https://localhost:8080/"
        },
        "id": "orclwz4mw21C",
        "outputId": "edc828a7-e333-45a5-a200-3eddc97450d7"
      },
      "execution_count": null,
      "outputs": [
        {
          "output_type": "execute_result",
          "data": {
            "text/plain": [
              "array([ 2.,  4.,  1.,  3.,  0., nan])"
            ]
          },
          "metadata": {},
          "execution_count": 3
        }
      ]
    },
    {
      "cell_type": "code",
      "source": [
        "data.class_param.fillna(0, inplace=True)\n",
        "data = data.query('class_param != 0')\n",
        "data['class_param'].unique()"
      ],
      "metadata": {
        "colab": {
          "base_uri": "https://localhost:8080/"
        },
        "id": "VrSnDWkm0K2O",
        "outputId": "0be0a7bc-58d7-496e-afe8-f43b17b41e2b"
      },
      "execution_count": null,
      "outputs": [
        {
          "output_type": "execute_result",
          "data": {
            "text/plain": [
              "array([2., 4., 1., 3.])"
            ]
          },
          "metadata": {},
          "execution_count": 4
        }
      ]
    },
    {
      "cell_type": "code",
      "source": [
        "data = data.astype({'class_param': 'int'})\n",
        "data.head()"
      ],
      "metadata": {
        "colab": {
          "base_uri": "https://localhost:8080/",
          "height": 299
        },
        "id": "I9E4RGMJ0cEV",
        "outputId": "4f367af7-8b94-4ffa-be6e-a68c1b038f29"
      },
      "execution_count": null,
      "outputs": [
        {
          "output_type": "execute_result",
          "data": {
            "text/plain": [
              "   class_param  sns_1_sct_1_plus  sns_1_sct_1_minus  sns_1_sct_2_plus  \\\n",
              "0            2          1.070476           1.134191          1.061568   \n",
              "1            4          1.062580           0.000000          0.000000   \n",
              "2            1          1.067535           1.051729          1.054481   \n",
              "3            1          1.088980           1.055896          1.061196   \n",
              "4            2          1.081317           1.061869          1.053991   \n",
              "\n",
              "   sns_1_sct_2_minus  sns_1_sct_3_plus  sns_1_sct_3_minus  sns_1_sct_4_plus  \\\n",
              "0           1.063757          1.056732           1.071109          1.063262   \n",
              "1           0.000000          1.610508           1.232604          0.000000   \n",
              "2           1.057698          1.055646           1.062432          1.071453   \n",
              "3           1.138536          1.091437           1.074876          1.061321   \n",
              "4           1.112041          1.073001           1.089580          1.092859   \n",
              "\n",
              "   sns_1_sct_4_minus  sns_1_sct_5_plus  ...  sns_3_sct_28_plus  \\\n",
              "0           1.074886          1.249140  ...                0.0   \n",
              "1           1.184101          1.320536  ...                0.0   \n",
              "2           1.064985          1.065528  ...                0.0   \n",
              "3           1.082646          1.095676  ...                0.0   \n",
              "4           1.097151          1.048954  ...                0.0   \n",
              "\n",
              "   sns_3_sct_28_minus  sns_3_sct_29_plus  sns_3_sct_29_minus  \\\n",
              "0                 0.0                0.0                 0.0   \n",
              "1                 0.0                0.0                 0.0   \n",
              "2                 0.0                0.0                 0.0   \n",
              "3                 0.0                0.0                 0.0   \n",
              "4                 0.0                0.0                 0.0   \n",
              "\n",
              "   sns_3_sct_30_plus  sns_3_sct_30_minus  sns_3_sct_31_plus  \\\n",
              "0                0.0                 0.0                0.0   \n",
              "1                0.0                 0.0                0.0   \n",
              "2                0.0                 0.0                0.0   \n",
              "3                0.0                 0.0                0.0   \n",
              "4                0.0                 0.0                0.0   \n",
              "\n",
              "   sns_3_sct_31_minus  sns_3_sct_32_plus  sns_3_sct_32_minus  \n",
              "0                 0.0                0.0                 0.0  \n",
              "1                 0.0                0.0                 0.0  \n",
              "2                 0.0                0.0                 0.0  \n",
              "3                 0.0                0.0                 0.0  \n",
              "4                 0.0                0.0                 0.0  \n",
              "\n",
              "[5 rows x 193 columns]"
            ],
            "text/html": [
              "\n",
              "  <div id=\"df-46fc01d6-799e-433f-a9fd-bc01a7967802\">\n",
              "    <div class=\"colab-df-container\">\n",
              "      <div>\n",
              "<style scoped>\n",
              "    .dataframe tbody tr th:only-of-type {\n",
              "        vertical-align: middle;\n",
              "    }\n",
              "\n",
              "    .dataframe tbody tr th {\n",
              "        vertical-align: top;\n",
              "    }\n",
              "\n",
              "    .dataframe thead th {\n",
              "        text-align: right;\n",
              "    }\n",
              "</style>\n",
              "<table border=\"1\" class=\"dataframe\">\n",
              "  <thead>\n",
              "    <tr style=\"text-align: right;\">\n",
              "      <th></th>\n",
              "      <th>class_param</th>\n",
              "      <th>sns_1_sct_1_plus</th>\n",
              "      <th>sns_1_sct_1_minus</th>\n",
              "      <th>sns_1_sct_2_plus</th>\n",
              "      <th>sns_1_sct_2_minus</th>\n",
              "      <th>sns_1_sct_3_plus</th>\n",
              "      <th>sns_1_sct_3_minus</th>\n",
              "      <th>sns_1_sct_4_plus</th>\n",
              "      <th>sns_1_sct_4_minus</th>\n",
              "      <th>sns_1_sct_5_plus</th>\n",
              "      <th>...</th>\n",
              "      <th>sns_3_sct_28_plus</th>\n",
              "      <th>sns_3_sct_28_minus</th>\n",
              "      <th>sns_3_sct_29_plus</th>\n",
              "      <th>sns_3_sct_29_minus</th>\n",
              "      <th>sns_3_sct_30_plus</th>\n",
              "      <th>sns_3_sct_30_minus</th>\n",
              "      <th>sns_3_sct_31_plus</th>\n",
              "      <th>sns_3_sct_31_minus</th>\n",
              "      <th>sns_3_sct_32_plus</th>\n",
              "      <th>sns_3_sct_32_minus</th>\n",
              "    </tr>\n",
              "  </thead>\n",
              "  <tbody>\n",
              "    <tr>\n",
              "      <th>0</th>\n",
              "      <td>2</td>\n",
              "      <td>1.070476</td>\n",
              "      <td>1.134191</td>\n",
              "      <td>1.061568</td>\n",
              "      <td>1.063757</td>\n",
              "      <td>1.056732</td>\n",
              "      <td>1.071109</td>\n",
              "      <td>1.063262</td>\n",
              "      <td>1.074886</td>\n",
              "      <td>1.249140</td>\n",
              "      <td>...</td>\n",
              "      <td>0.0</td>\n",
              "      <td>0.0</td>\n",
              "      <td>0.0</td>\n",
              "      <td>0.0</td>\n",
              "      <td>0.0</td>\n",
              "      <td>0.0</td>\n",
              "      <td>0.0</td>\n",
              "      <td>0.0</td>\n",
              "      <td>0.0</td>\n",
              "      <td>0.0</td>\n",
              "    </tr>\n",
              "    <tr>\n",
              "      <th>1</th>\n",
              "      <td>4</td>\n",
              "      <td>1.062580</td>\n",
              "      <td>0.000000</td>\n",
              "      <td>0.000000</td>\n",
              "      <td>0.000000</td>\n",
              "      <td>1.610508</td>\n",
              "      <td>1.232604</td>\n",
              "      <td>0.000000</td>\n",
              "      <td>1.184101</td>\n",
              "      <td>1.320536</td>\n",
              "      <td>...</td>\n",
              "      <td>0.0</td>\n",
              "      <td>0.0</td>\n",
              "      <td>0.0</td>\n",
              "      <td>0.0</td>\n",
              "      <td>0.0</td>\n",
              "      <td>0.0</td>\n",
              "      <td>0.0</td>\n",
              "      <td>0.0</td>\n",
              "      <td>0.0</td>\n",
              "      <td>0.0</td>\n",
              "    </tr>\n",
              "    <tr>\n",
              "      <th>2</th>\n",
              "      <td>1</td>\n",
              "      <td>1.067535</td>\n",
              "      <td>1.051729</td>\n",
              "      <td>1.054481</td>\n",
              "      <td>1.057698</td>\n",
              "      <td>1.055646</td>\n",
              "      <td>1.062432</td>\n",
              "      <td>1.071453</td>\n",
              "      <td>1.064985</td>\n",
              "      <td>1.065528</td>\n",
              "      <td>...</td>\n",
              "      <td>0.0</td>\n",
              "      <td>0.0</td>\n",
              "      <td>0.0</td>\n",
              "      <td>0.0</td>\n",
              "      <td>0.0</td>\n",
              "      <td>0.0</td>\n",
              "      <td>0.0</td>\n",
              "      <td>0.0</td>\n",
              "      <td>0.0</td>\n",
              "      <td>0.0</td>\n",
              "    </tr>\n",
              "    <tr>\n",
              "      <th>3</th>\n",
              "      <td>1</td>\n",
              "      <td>1.088980</td>\n",
              "      <td>1.055896</td>\n",
              "      <td>1.061196</td>\n",
              "      <td>1.138536</td>\n",
              "      <td>1.091437</td>\n",
              "      <td>1.074876</td>\n",
              "      <td>1.061321</td>\n",
              "      <td>1.082646</td>\n",
              "      <td>1.095676</td>\n",
              "      <td>...</td>\n",
              "      <td>0.0</td>\n",
              "      <td>0.0</td>\n",
              "      <td>0.0</td>\n",
              "      <td>0.0</td>\n",
              "      <td>0.0</td>\n",
              "      <td>0.0</td>\n",
              "      <td>0.0</td>\n",
              "      <td>0.0</td>\n",
              "      <td>0.0</td>\n",
              "      <td>0.0</td>\n",
              "    </tr>\n",
              "    <tr>\n",
              "      <th>4</th>\n",
              "      <td>2</td>\n",
              "      <td>1.081317</td>\n",
              "      <td>1.061869</td>\n",
              "      <td>1.053991</td>\n",
              "      <td>1.112041</td>\n",
              "      <td>1.073001</td>\n",
              "      <td>1.089580</td>\n",
              "      <td>1.092859</td>\n",
              "      <td>1.097151</td>\n",
              "      <td>1.048954</td>\n",
              "      <td>...</td>\n",
              "      <td>0.0</td>\n",
              "      <td>0.0</td>\n",
              "      <td>0.0</td>\n",
              "      <td>0.0</td>\n",
              "      <td>0.0</td>\n",
              "      <td>0.0</td>\n",
              "      <td>0.0</td>\n",
              "      <td>0.0</td>\n",
              "      <td>0.0</td>\n",
              "      <td>0.0</td>\n",
              "    </tr>\n",
              "  </tbody>\n",
              "</table>\n",
              "<p>5 rows × 193 columns</p>\n",
              "</div>\n",
              "      <button class=\"colab-df-convert\" onclick=\"convertToInteractive('df-46fc01d6-799e-433f-a9fd-bc01a7967802')\"\n",
              "              title=\"Convert this dataframe to an interactive table.\"\n",
              "              style=\"display:none;\">\n",
              "        \n",
              "  <svg xmlns=\"http://www.w3.org/2000/svg\" height=\"24px\"viewBox=\"0 0 24 24\"\n",
              "       width=\"24px\">\n",
              "    <path d=\"M0 0h24v24H0V0z\" fill=\"none\"/>\n",
              "    <path d=\"M18.56 5.44l.94 2.06.94-2.06 2.06-.94-2.06-.94-.94-2.06-.94 2.06-2.06.94zm-11 1L8.5 8.5l.94-2.06 2.06-.94-2.06-.94L8.5 2.5l-.94 2.06-2.06.94zm10 10l.94 2.06.94-2.06 2.06-.94-2.06-.94-.94-2.06-.94 2.06-2.06.94z\"/><path d=\"M17.41 7.96l-1.37-1.37c-.4-.4-.92-.59-1.43-.59-.52 0-1.04.2-1.43.59L10.3 9.45l-7.72 7.72c-.78.78-.78 2.05 0 2.83L4 21.41c.39.39.9.59 1.41.59.51 0 1.02-.2 1.41-.59l7.78-7.78 2.81-2.81c.8-.78.8-2.07 0-2.86zM5.41 20L4 18.59l7.72-7.72 1.47 1.35L5.41 20z\"/>\n",
              "  </svg>\n",
              "      </button>\n",
              "      \n",
              "  <style>\n",
              "    .colab-df-container {\n",
              "      display:flex;\n",
              "      flex-wrap:wrap;\n",
              "      gap: 12px;\n",
              "    }\n",
              "\n",
              "    .colab-df-convert {\n",
              "      background-color: #E8F0FE;\n",
              "      border: none;\n",
              "      border-radius: 50%;\n",
              "      cursor: pointer;\n",
              "      display: none;\n",
              "      fill: #1967D2;\n",
              "      height: 32px;\n",
              "      padding: 0 0 0 0;\n",
              "      width: 32px;\n",
              "    }\n",
              "\n",
              "    .colab-df-convert:hover {\n",
              "      background-color: #E2EBFA;\n",
              "      box-shadow: 0px 1px 2px rgba(60, 64, 67, 0.3), 0px 1px 3px 1px rgba(60, 64, 67, 0.15);\n",
              "      fill: #174EA6;\n",
              "    }\n",
              "\n",
              "    [theme=dark] .colab-df-convert {\n",
              "      background-color: #3B4455;\n",
              "      fill: #D2E3FC;\n",
              "    }\n",
              "\n",
              "    [theme=dark] .colab-df-convert:hover {\n",
              "      background-color: #434B5C;\n",
              "      box-shadow: 0px 1px 3px 1px rgba(0, 0, 0, 0.15);\n",
              "      filter: drop-shadow(0px 1px 2px rgba(0, 0, 0, 0.3));\n",
              "      fill: #FFFFFF;\n",
              "    }\n",
              "  </style>\n",
              "\n",
              "      <script>\n",
              "        const buttonEl =\n",
              "          document.querySelector('#df-46fc01d6-799e-433f-a9fd-bc01a7967802 button.colab-df-convert');\n",
              "        buttonEl.style.display =\n",
              "          google.colab.kernel.accessAllowed ? 'block' : 'none';\n",
              "\n",
              "        async function convertToInteractive(key) {\n",
              "          const element = document.querySelector('#df-46fc01d6-799e-433f-a9fd-bc01a7967802');\n",
              "          const dataTable =\n",
              "            await google.colab.kernel.invokeFunction('convertToInteractive',\n",
              "                                                     [key], {});\n",
              "          if (!dataTable) return;\n",
              "\n",
              "          const docLinkHtml = 'Like what you see? Visit the ' +\n",
              "            '<a target=\"_blank\" href=https://colab.research.google.com/notebooks/data_table.ipynb>data table notebook</a>'\n",
              "            + ' to learn more about interactive tables.';\n",
              "          element.innerHTML = '';\n",
              "          dataTable['output_type'] = 'display_data';\n",
              "          await google.colab.output.renderOutput(dataTable, element);\n",
              "          const docLink = document.createElement('div');\n",
              "          docLink.innerHTML = docLinkHtml;\n",
              "          element.appendChild(docLink);\n",
              "        }\n",
              "      </script>\n",
              "    </div>\n",
              "  </div>\n",
              "  "
            ]
          },
          "metadata": {},
          "execution_count": 5
        }
      ]
    },
    {
      "cell_type": "code",
      "source": [
        "data.class_param.hist()"
      ],
      "metadata": {
        "colab": {
          "base_uri": "https://localhost:8080/",
          "height": 447
        },
        "id": "QEx4HhhlANYu",
        "outputId": "a371a3fe-6003-4b1f-92eb-0baa30b88ab7"
      },
      "execution_count": null,
      "outputs": [
        {
          "output_type": "execute_result",
          "data": {
            "text/plain": [
              "<Axes: >"
            ]
          },
          "metadata": {},
          "execution_count": 6
        },
        {
          "output_type": "display_data",
          "data": {
            "text/plain": [
              "<Figure size 640x480 with 1 Axes>"
            ],
            "image/png": "[encoded data removed]"
          },
          "metadata": {}
        }
      ]
    },
    {
      "cell_type": "code",
      "source": [
        "data.shape"
      ],
      "metadata": {
        "colab": {
          "base_uri": "https://localhost:8080/"
        },
        "id": "gfWM__WOqzQd",
        "outputId": "092879e2-41d9-477b-8cf0-081468c782c5"
      },
      "execution_count": null,
      "outputs": [
        {
          "output_type": "execute_result",
          "data": {
            "text/plain": [
              "(198649, 193)"
            ]
          },
          "metadata": {},
          "execution_count": 7
        }
      ]
    },
    {
      "cell_type": "markdown",
      "source": [
        "# Models"
      ],
      "metadata": {
        "id": "FPhK5rVr5FI3"
      }
    },
    {
      "cell_type": "code",
      "source": [
        "from sklearn.model_selection import train_test_split"
      ],
      "metadata": {
        "id": "20EcmKsWIosN"
      },
      "execution_count": null,
      "outputs": []
    },
    {
      "cell_type": "code",
      "source": [
        "Y = data['class_param']\n",
        "X = data.drop(columns='class_param')"
      ],
      "metadata": {
        "id": "Bx2t5YzrWvNP"
      },
      "execution_count": null,
      "outputs": []
    },
    {
      "cell_type": "code",
      "source": [
        "X_train, X_test, y_train, y_test = train_test_split(X, Y, train_size=0.7, random_state=42)\n",
        "X_train.shape, X_test.shape, y_train.shape, y_test.shape"
      ],
      "metadata": {
        "id": "4nmZVWdoXtL-",
        "colab": {
          "base_uri": "https://localhost:8080/"
        },
        "outputId": "fb3645ca-64ba-468c-dd65-9348a5acb6d6"
      },
      "execution_count": null,
      "outputs": [
        {
          "output_type": "execute_result",
          "data": {
            "text/plain": [
              "((139054, 192), (59595, 192), (139054,), (59595,))"
            ]
          },
          "metadata": {},
          "execution_count": 10
        }
      ]
    },
    {
      "cell_type": "markdown",
      "source": [
        "## XGBoost"
      ],
      "metadata": {
        "id": "xI-8qysTKRqm"
      }
    },
    {
      "cell_type": "code",
      "source": [],
      "metadata": {
        "id": "-4lgfzmNKRPW"
      },
      "execution_count": null,
      "outputs": []
    }
  ]
}